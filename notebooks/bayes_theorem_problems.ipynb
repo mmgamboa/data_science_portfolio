{
 "cells": [
  {
   "cell_type": "markdown",
   "metadata": {},
   "source": [
    "# Table of content\n",
    "\n",
    "1. Weather in Newcastle \n",
    "2. Disease Diagnosis"
   ]
  },
  {
   "cell_type": "markdown",
   "metadata": {},
   "source": [
    "# 1. Weather in Newcastle\n",
    "\n",
    "You’re about to board a train from London to Newcastle. **You want to know if it’s raining**, so you call your three friends who live in Newcastle. **Each friend has a 2/3 chance of telling you the truth and a 1/3 chance of telling you a lie**. All three **friends tell you that, yes,** it’s raining in Newcastle. \n",
    "\n",
    "_Question_: What is the probability that it is, in fact, raining in Newcastle?"
   ]
  },
  {
   "cell_type": "markdown",
   "metadata": {},
   "source": [
    "**Bayes theorem applied to this case**\n",
    "\n",
    "If $R$ for raining, $T_{i}$ the answer of each friend ($i = 1,2,3$), the probability of it's raining given the answers of the friends can be computed as: $$P(R|T_1,T_2,T_3) = \\frac{P(T_1,T_2,T_3|R) P(R)}{P(T_1,T_2,T_3)},$$ where:\n",
    "\n",
    "* $P(R)$ is the **prior**. In this case we can use a naive $0.5$, i.e. 50% it rains and 50% it does not rain, or [this](https://www.farmonlineweather.com.au/climate/station.jsp?lt=site&lc=61390) source and use something more realistic according the place (Newcastle) and use $130.2/365.25 = 0.36$,\n",
    "* $P(T_1,T_2,T_3|R)$ is the **Likelihood**. The probability of your friend are telling you the truth, given it is raining: $$P(T_1,T_2,T_3|R) = \\frac{2}{3} \\cdot \\frac{2}{3} \\cdot\\frac{2}{3} = \\frac{8}{27},$$\n",
    "* **Marginalization.** Then if it does not rain, your friends lie to you so $$P(T_1,T_2,T_3 | \\sim R) = \\frac{1}{3} \\cdot \\frac{1}{3} \\cdot \\frac{1}{3} = \\frac{1}{27},$$ and the total probability will be: $$P(T_1, T_2, T_3) = P(T_1, T_2, T_3 | R) \\cdot P(R) + P(T_1, T_2, T_3 | \\sim R) \\cdot P(\\sim R).$$\n",
    "\n"
   ]
  },
  {
   "cell_type": "code",
   "execution_count": 11,
   "metadata": {},
   "outputs": [
    {
     "name": "stdout",
     "output_type": "stream",
     "text": [
      "The probability that it is raining in Newcastle, given the prior of raining of  36% is  82%\n"
     ]
    }
   ],
   "source": [
    "# Set the prior\n",
    "prior = 0.36#0.5\n",
    "\n",
    "# Set the probability of truth\n",
    "T1 = T2 = T3 = 2/3\n",
    "\n",
    "# Compute the likelihood\n",
    "prob_true_given_rain = T1 * T2 * T3\n",
    "\n",
    "# Compute the marginalization\n",
    "## Compute the probability your frends are lying\n",
    "prob_false_given_rain = (1-T1) * (1-T2) * (1-T3)\n",
    "## Compute the probability of the event\n",
    "prob_true = prob_true_given_rain * prior + prob_false_given_rain * (1 - prior)\n",
    "\n",
    "# Compute the posterior\n",
    "posterior = prob_true_given_rain * prior / prob_true\n",
    "\n",
    "print(f\"The probability that it is raining in Newcastle, given the prior of raining of {prior*100:3.0f}% is {posterior*100:3.0f}%\")"
   ]
  },
  {
   "cell_type": "markdown",
   "metadata": {},
   "source": [
    "# 2. Disease Diagnosis\n",
    "\n",
    "A new virus is spreading in a population, and a test has been developed to detect it. The following information is known:\n",
    "\n",
    "The prevalence of the virus in the population is 2%. The test is 95% accurate if a person has the virus. The test has a 3% false positive rate.\n",
    "\n",
    "_Question_: If a person tests positive, what is the probability that they actually have the virus? "
   ]
  },
  {
   "cell_type": "markdown",
   "metadata": {},
   "source": [
    "**Bayes theorem applied to this case**\n",
    "\n",
    "If $Virus$ for a person having the virus, the Bayes theorem can be used as follows: $$P(Virus | Positive) = \\frac{P(Positive | Virus) \\cdot P(Virus)}{P(Positive)}.$$\n",
    "\n",
    "We marginalize in the space parameter in the $Positive$ direction. \n",
    "\n",
    "* $P(Virus)$ is the **prior** and represent eh probability of having the virus: $P(Virus)=0.02$,\n",
    "* The **likelihood** is represented by the factor $P(Positive | Virus)$ and represent the population that has positive test given they are infected by the virus, ie. the accuracy of the test: $P(Positive|Virus) = 0.95$,\n",
    "* The **marginalization** is represented by the probability of positive test result $$P(Positive) = P(Positive | No virus) \\cdot P(No virus) + P(Positive | Virus) \\cdot P(Virus).$$  "
   ]
  },
  {
   "cell_type": "code",
   "execution_count": 17,
   "metadata": {},
   "outputs": [
    {
     "name": "stdout",
     "output_type": "stream",
     "text": [
      "The probability that you have the virus, given the prior of having a positive result is  39%\n"
     ]
    }
   ],
   "source": [
    "# Set the prior\n",
    "prior = 0.02\n",
    "\n",
    "# Compute likelihood\n",
    "prob_positive_virus = 0.95\n",
    "\n",
    "# Compute the marginalization\n",
    "prob_positive_novirus = 0.03\n",
    "prob_positive = prob_positive_virus * prior + prob_positive_novirus * (1 - prior)\n",
    "\n",
    "# Compute posterior\n",
    "posterior = prob_positive_virus * prior / prob_positive\n",
    "print(f\"The probability that you have the virus, given the prior of having a positive result is {posterior*100:3.0f}%\")"
   ]
  },
  {
   "cell_type": "code",
   "execution_count": null,
   "metadata": {},
   "outputs": [],
   "source": []
  }
 ],
 "metadata": {
  "kernelspec": {
   "display_name": "devtin",
   "language": "python",
   "name": "python3"
  },
  "language_info": {
   "codemirror_mode": {
    "name": "ipython",
    "version": 3
   },
   "file_extension": ".py",
   "mimetype": "text/x-python",
   "name": "python",
   "nbconvert_exporter": "python",
   "pygments_lexer": "ipython3",
   "version": "3.12.7"
  }
 },
 "nbformat": 4,
 "nbformat_minor": 2
}
