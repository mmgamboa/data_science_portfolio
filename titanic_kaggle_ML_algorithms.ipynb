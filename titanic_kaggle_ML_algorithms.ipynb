{
 "cells": [
  {
   "cell_type": "markdown",
   "id": "6e7689ed",
   "metadata": {},
   "source": [
    "# Spaceship Titanic\n",
    "\n",
    "**Kaggle competitions**\n",
    "\n",
    "Welcome to the year 2912, where your data science skills are needed to solve a cosmic mystery. We've received a transmission from four lightyears away and things aren't looking good.\n",
    "\n",
    "The Spaceship Titanic was an interstellar passenger liner launched a month ago. With almost 13,000 passengers on board, the vessel set out on its maiden voyage transporting emigrants from our solar system to three newly habitable exoplanets orbiting nearby stars.\n",
    "\n",
    "While rounding Alpha Centauri en route to its first destination—the torrid 55 Cancri E—the unwary Spaceship Titanic collided with a spacetime anomaly hidden within a dust cloud. Sadly, it met a similar fate as its namesake from 1000 years before. Though the ship stayed intact, almost half of the passengers were transported to an alternate dimension!\n",
    "\n",
    "To help rescue crews and retrieve the lost passengers, you are challenged to predict which passengers were transported by the anomaly using records recovered from the spaceship’s damaged computer system.\n",
    "\n",
    "Help save them and change history!"
   ]
  },
  {
   "cell_type": "code",
   "execution_count": 6,
   "id": "cb2f046b",
   "metadata": {
    "_cell_guid": "b1076dfc-b9ad-4769-8c92-a6c4dae69d19",
    "_uuid": "8f2839f25d086af736a60e9eeb907d3b93b6e0e5",
    "execution": {
     "iopub.execute_input": "2024-10-28T21:05:38.125377Z",
     "iopub.status.busy": "2024-10-28T21:05:38.124279Z",
     "iopub.status.idle": "2024-10-28T21:05:42.856972Z",
     "shell.execute_reply": "2024-10-28T21:05:42.854458Z"
    },
    "papermill": {
     "duration": 4.754826,
     "end_time": "2024-10-28T21:05:42.860349",
     "exception": false,
     "start_time": "2024-10-28T21:05:38.105523",
     "status": "completed"
    },
    "tags": []
   },
   "outputs": [
    {
     "name": "stdout",
     "output_type": "stream",
     "text": [
      "data/train.csv\n",
      "data/test.csv\n",
      "data/sample_submission.csv\n"
     ]
    }
   ],
   "source": [
    "# Author: Martín Gamboa\n",
    "# Date: October 18th, 2024\n",
    "\n",
    "# This Python 3 environment comes with many helpful analytics libraries installed\n",
    "# It is defined by the kaggle/python Docker image: https://github.com/kaggle/docker-python\n",
    "# For example, here's several helpful packages to load\n",
    "\n",
    "import numpy as np # linear algebra\n",
    "import pandas as pd # data processing, CSV file I/O (e.g. pd.read_csv)\n",
    "import matplotlib.pyplot as plt\n",
    "import seaborn as sns\n",
    "\n",
    "from sklearn.model_selection import train_test_split\n",
    "from sklearn.svm import LinearSVC,SVC\n",
    "from sklearn.preprocessing import LabelEncoder\n",
    "from sklearn.preprocessing import StandardScaler\n",
    "from sklearn.metrics import PrecisionRecallDisplay,RocCurveDisplay\n",
    "from sklearn.metrics import confusion_matrix\n",
    "from sklearn.metrics import ConfusionMatrixDisplay\n",
    "from sklearn.neighbors import KNeighborsClassifier\n",
    "from sklearn.metrics import accuracy_score, precision_score, recall_score, f1_score, roc_auc_score\n",
    "from sklearn.neighbors import RadiusNeighborsClassifier\n",
    "\n",
    "from sklearn.decomposition import PCA\n",
    "from sklearn.impute import SimpleImputer\n",
    "from sklearn.ensemble import RandomForestClassifier\n",
    "from sklearn.model_selection import cross_val_score\n",
    "from sklearn.experimental import enable_iterative_imputer\n",
    "from sklearn.impute import IterativeImputer\n",
    "from sklearn.ensemble import HistGradientBoostingClassifier\n",
    "from sklearn.ensemble import GradientBoostingClassifier\n",
    "from sklearn import model_selection\n",
    "# Input data files are available in the read-only \"../input/\" directory\n",
    "# For example, running this (by clicking run or pressing Shift+Enter) will list all files under the input directory\n",
    "\n",
    "import os\n",
    "for dirname, _, filenames in os.walk('data/'):\n",
    "    for filename in filenames:\n",
    "        print(os.path.join(dirname, filename))\n",
    "\n",
    "# You can write up to 20GB to the current directory (/kaggle/working/) that gets preserved as output when you create a version using \"Save & Run All\" \n",
    "# You can also write temporary files to /kaggle/temp/, but they won't be saved outside of the current session"
   ]
  },
  {
   "cell_type": "markdown",
   "id": "3f275426",
   "metadata": {
    "papermill": {
     "duration": 0.015907,
     "end_time": "2024-10-28T21:05:42.891849",
     "exception": false,
     "start_time": "2024-10-28T21:05:42.875942",
     "status": "completed"
    },
    "tags": []
   },
   "source": [
    "# Read data"
   ]
  },
  {
   "cell_type": "code",
   "execution_count": 7,
   "id": "b882ae20",
   "metadata": {
    "execution": {
     "iopub.execute_input": "2024-10-28T21:05:42.924679Z",
     "iopub.status.busy": "2024-10-28T21:05:42.923653Z",
     "iopub.status.idle": "2024-10-28T21:05:43.045362Z",
     "shell.execute_reply": "2024-10-28T21:05:43.043588Z"
    },
    "papermill": {
     "duration": 0.142228,
     "end_time": "2024-10-28T21:05:43.049164",
     "exception": false,
     "start_time": "2024-10-28T21:05:42.906936",
     "status": "completed"
    },
    "tags": []
   },
   "outputs": [],
   "source": [
    "#reading data\n",
    "train_data = pd.read_csv(os.path.join(dirname,filenames[1]))\n",
    "test_data = pd.read_csv(os.path.join(dirname,filenames[2]))"
   ]
  },
  {
   "cell_type": "code",
   "execution_count": 12,
   "id": "4e094d44",
   "metadata": {
    "execution": {
     "iopub.execute_input": "2024-10-28T21:05:43.086575Z",
     "iopub.status.busy": "2024-10-28T21:05:43.084232Z",
     "iopub.status.idle": "2024-10-28T21:05:43.103994Z",
     "shell.execute_reply": "2024-10-28T21:05:43.102215Z"
    },
    "papermill": {
     "duration": 0.042303,
     "end_time": "2024-10-28T21:05:43.107784",
     "exception": false,
     "start_time": "2024-10-28T21:05:43.065481",
     "status": "completed"
    },
    "tags": []
   },
   "outputs": [
    {
     "name": "stdout",
     "output_type": "stream",
     "text": [
      "There are 1117 NaN values in the training data\n",
      "There are 0 NaN values in the test data\n"
     ]
    }
   ],
   "source": [
    "train_data_original = train_data.copy()\n",
    "print(f\"There are {train_data.isna().sum(axis=0).sum()} NaN values in the training data\")\n",
    "print(f\"There are {test_data.isna().sum(axis=0).sum()} NaN values in the test data\")"
   ]
  },
  {
   "cell_type": "markdown",
   "id": "d9886b2f",
   "metadata": {},
   "source": [
    "# Preprocess"
   ]
  },
  {
   "cell_type": "markdown",
   "id": "4471d57d",
   "metadata": {
    "papermill": {
     "duration": 0.020984,
     "end_time": "2024-10-28T21:05:43.145222",
     "exception": false,
     "start_time": "2024-10-28T21:05:43.124238",
     "status": "completed"
    },
    "tags": []
   },
   "source": [
    "## Outliers treatment"
   ]
  },
  {
   "cell_type": "markdown",
   "id": "0d2d2d47",
   "metadata": {},
   "source": [
    "We will process only relevant columns for our study"
   ]
  },
  {
   "cell_type": "code",
   "execution_count": 20,
   "id": "ef13878f",
   "metadata": {},
   "outputs": [],
   "source": [
    "# There are some columns that are not needed to treat with outliers\n",
    "# such as: PassengerId, HomePlanet, CryoSleep, Cabin, Destination, VIP, Name, Transported\n",
    "# So columns that will be considered for outlier detection:\n",
    "#   Age, RoomService, FoodCourt, ShoppingMall, Spa, VRDeck\n",
    "col_outliers = ['Age', 'RoomService', 'FoodCourt', 'ShoppingMall', 'Spa', 'VRDeck']"
   ]
  },
  {
   "cell_type": "code",
   "execution_count": null,
   "id": "83fe4905",
   "metadata": {
    "execution": {
     "iopub.execute_input": "2024-10-28T21:05:43.186428Z",
     "iopub.status.busy": "2024-10-28T21:05:43.185753Z",
     "iopub.status.idle": "2024-10-28T21:05:43.752563Z",
     "shell.execute_reply": "2024-10-28T21:05:43.750640Z"
    },
    "papermill": {
     "duration": 0.59392,
     "end_time": "2024-10-28T21:05:43.756526",
     "exception": false,
     "start_time": "2024-10-28T21:05:43.162606",
     "status": "completed"
    },
    "tags": []
   },
   "outputs": [
    {
     "data": {
      "image/png": "[encoded data removed]",
      "text/plain": [
       "<Figure size 640x480 with 1 Axes>"
      ]
     },
     "metadata": {},
     "output_type": "display_data"
    }
   ],
   "source": [
    "def outliers_norm_threshold(dataset, cols):\n",
    "    aux_data = dataset.copy()\n",
    "    aux_data = aux_data[cols]\n",
    "    #print(aux_data)\n",
    "    mean_ds = aux_data.mean(axis=0)\n",
    "    std_ds = aux_data.std(axis=0)\n",
    "    #mean_ds, std_ds\n",
    "    low_value = {}\n",
    "    high_value = {}\n",
    "    for j, name in enumerate(mean_ds.keys()):\n",
    "        low_value[name] = max(mean_ds[name] - 3 * std_ds[name], 0)\n",
    "        high_value[name] = mean_ds[name] + 3 * std_ds[name]\n",
    "    return low_value, high_value\n",
    "\n",
    "def outliers_norm_distro(dataset, colnames):\n",
    "    \"\"\" \n",
    "    dataset: pd.DataFrame\n",
    "    cols: pd.Series or list of column names where to search outliers\n",
    "    -\n",
    "    Returns indexes where the condition is not satisficed in each col in cols\n",
    "    \"\"\"\n",
    "    low_norm, high_norm = outliers_norm_threshold(train_data, col_outliers)\n",
    "    #low_norm , high_norm\n",
    "    aux_data_norm={}\n",
    "    for j, name in enumerate(low_norm.keys()):\n",
    "        aux_data_norm[name] = dataset[(dataset[name] < low_norm[name]) | (dataset[name] > high_norm[name]) ].index\n",
    "    return aux_data_norm\n",
    "idx_norm_outliers = outliers_norm_distro(train_data, col_outliers)\n",
    "\n",
    "# IQR\n",
    "def outliers_skewed_threshold(dataset, colnames):\n",
    "    aux_data_q = dataset.copy()\n",
    "    quantile1 = aux_data_q[colnames].quantile(0.25)\n",
    "    quantile3 = aux_data_q[colnames].quantile(0.75) \n",
    "    #print(quantile1, quantile3)\n",
    "    # compute iqr\n",
    "    iqr = quantile3 - quantile1\n",
    "    up_limit_q = quantile3 + 1.5 * iqr\n",
    "    low_limit_q = quantile1 - 1.5 * iqr\n",
    "    for j, name in enumerate(low_limit_q.keys()):\n",
    "        low_limit_q[name] = max(low_limit_q[name], 0)\n",
    "    return low_limit_q, up_limit_q\n",
    "def outliers_skewed_distro(dataset, colnames):\n",
    "    low_limit, up_limit = outliers_skewed_threshold(dataset, colnames)\n",
    "    aux_data_norm={}\n",
    "    for j, name in enumerate(low_limit.keys()):\n",
    "        aux_data_norm[name] = dataset[(dataset[name] < low_limit[name]) | (dataset[name] > up_limit[name]) ].index\n",
    "    return aux_data_norm\n",
    "\n",
    "idx_skewed_outliers = outliers_skewed_distro(train_data, col_outliers)\n",
    "\n",
    "#print(idx_skewed_outliers)\n",
    "len_skewed = {ikey: len(ival) for ikey, ival in zip(idx_skewed_outliers.keys(), \n",
    "                                              idx_skewed_outliers.values())}\n",
    "len_norm = {ikey: len(ival) for ikey, ival in zip(idx_norm_outliers.keys(), \n",
    "                                              idx_norm_outliers.values())}\n",
    "# compare the two outliers algorithms\n",
    "# Extract categories and their respective counts\n",
    "categories = list(len_skewed.keys())\n",
    "counts_skewed = list(len_skewed.values())\n",
    "counts_norm = list(len_norm.values())\n",
    "\n",
    "# Number of categories\n",
    "num_categories = len(categories)\n",
    "# Create an array for positioning the bars on the x-axis\n",
    "indices = np.arange(num_categories)\n",
    "# Width of each bar\n",
    "bar_width = 0.35\n",
    "\n",
    "# Plotting the grouped bar chart\n",
    "plt.bar(indices, counts_skewed, bar_width, label='Skewed', color='skyblue')\n",
    "plt.bar(indices + bar_width, counts_norm, bar_width, label='Norm', color='salmon')\n",
    "# Adding labels, title, and legend\n",
    "plt.xlabel('Category')\n",
    "plt.ylabel('Count of Indexes')\n",
    "plt.title('Comparison of Indexes by Category for Two Criteria')\n",
    "plt.xticks(indices + bar_width / 2, categories, rotation=45)  # Position x-axis labels\n",
    "plt.legend()\n",
    "\n",
    "########\n",
    "# \n",
    "#        Mask data with Decision \n",
    "# \n",
    "########\n",
    "# We will set that values as NaN's using Norm criteria because the % of data that will change is less\n",
    "def set_outliers_as_nan(dataset, idx_outliers):\n",
    "    for name in idx_outliers.keys():\n",
    "        dataset.loc[idx_norm_outliers[name], name] = np.nan\n",
    "    return dataset\n",
    "#train_data = set_outliers_as_nan(train_data, idx_norm_outliers)\n",
    "\n",
    "def remove_outlier(dataset, colname):\n",
    "    low_limit, up_limit = outliers_norm_threshold(dataset, colname)\n",
    "    for j, name in enumerate(low_limit.keys()):\n",
    "        dataset = dataset[~((dataset[name] < low_limit[name]) | (dataset[name] > up_limit[name])) ]\n",
    "        # Reset the index of the DataFrame\n",
    "    dataset.reset_index(drop=True, inplace=True)\n",
    "    return dataset\n",
    "#train_data = remove_outlier(train_data, col_outliers)\n",
    "\n",
    "def replace_outlier_with_stats(dataset, colnames, method='mean'):\n",
    "    low_limit, up_limit = outliers_norm_threshold(dataset, colnames)\n",
    "    \n",
    "    for name in colnames:\n",
    "        # Calculate the replacement value\n",
    "        if method == 'mean':\n",
    "            replacement_value = dataset[name].mean()\n",
    "        elif method == 'median':\n",
    "            replacement_value = dataset[name].median()\n",
    "        else:\n",
    "            raise ValueError(\"Method must be 'mean' or 'median'\")\n",
    "        \n",
    "        # Replace outliers with the calculated statistic\n",
    "        dataset[name] = dataset[name].where(\n",
    "            (dataset[name] > low_limit[name]) | (dataset[name] < up_limit[name]),\n",
    "            replacement_value\n",
    "        )\n",
    "    \n",
    "    return dataset\n",
    "train_data = replace_outlier_with_stats(train_data, col_outliers, method='mean')\n"
   ]
  },
  {
   "cell_type": "code",
   "execution_count": 31,
   "id": "4c2ffb13",
   "metadata": {},
   "outputs": [],
   "source": [
    "############\n",
    "#####\n",
    "#####\n",
    "#####   Adapting to preprocessing.py module\n",
    "#####\n",
    "#####\n",
    "############\n",
    "\n",
    "ble = outliers_skewed_distro(train_data, ['Age'])\n",
    "\n",
    "import sys\n",
    "sys.path.append('..')\n",
    "from mymodule import *\n",
    "outlier_removal = OutlierRemover('std', 1.5)\n",
    "\n",
    "bla, accepted_idxs = outlier_removal.remove_outliers(train_data['Age'], border_cases=False)\n",
    "\n"
   ]
  },
  {
   "cell_type": "code",
   "execution_count": 14,
   "id": "0141e845",
   "metadata": {
    "execution": {
     "iopub.execute_input": "2024-10-28T21:05:43.798238Z",
     "iopub.status.busy": "2024-10-28T21:05:43.797529Z",
     "iopub.status.idle": "2024-10-28T21:05:43.839936Z",
     "shell.execute_reply": "2024-10-28T21:05:43.838054Z"
    },
    "papermill": {
     "duration": 0.064749,
     "end_time": "2024-10-28T21:05:43.843532",
     "exception": false,
     "start_time": "2024-10-28T21:05:43.778783",
     "status": "completed"
    },
    "tags": []
   },
   "outputs": [
    {
     "data": {
      "text/html": [
       "<div>\n",
       "<style scoped>\n",
       "    .dataframe tbody tr th:only-of-type {\n",
       "        vertical-align: middle;\n",
       "    }\n",
       "\n",
       "    .dataframe tbody tr th {\n",
       "        vertical-align: top;\n",
       "    }\n",
       "\n",
       "    .dataframe thead th {\n",
       "        text-align: right;\n",
       "    }\n",
       "</style>\n",
       "<table border=\"1\" class=\"dataframe\">\n",
       "  <thead>\n",
       "    <tr style=\"text-align: right;\">\n",
       "      <th></th>\n",
       "      <th>PassengerId</th>\n",
       "      <th>HomePlanet</th>\n",
       "      <th>CryoSleep</th>\n",
       "      <th>Cabin</th>\n",
       "      <th>Destination</th>\n",
       "      <th>Age</th>\n",
       "      <th>VIP</th>\n",
       "      <th>RoomService</th>\n",
       "      <th>FoodCourt</th>\n",
       "      <th>ShoppingMall</th>\n",
       "      <th>Spa</th>\n",
       "      <th>VRDeck</th>\n",
       "      <th>Name</th>\n",
       "    </tr>\n",
       "  </thead>\n",
       "  <tbody>\n",
       "    <tr>\n",
       "      <th>0</th>\n",
       "      <td>0013_01</td>\n",
       "      <td>Earth</td>\n",
       "      <td>True</td>\n",
       "      <td>G/3/S</td>\n",
       "      <td>TRAPPIST-1e</td>\n",
       "      <td>27.000000</td>\n",
       "      <td>False</td>\n",
       "      <td>0.0</td>\n",
       "      <td>0.0</td>\n",
       "      <td>0.0</td>\n",
       "      <td>0.0</td>\n",
       "      <td>0.0</td>\n",
       "      <td>Nelly Carsoning</td>\n",
       "    </tr>\n",
       "    <tr>\n",
       "      <th>1</th>\n",
       "      <td>0018_01</td>\n",
       "      <td>Earth</td>\n",
       "      <td>False</td>\n",
       "      <td>F/4/S</td>\n",
       "      <td>TRAPPIST-1e</td>\n",
       "      <td>19.000000</td>\n",
       "      <td>False</td>\n",
       "      <td>0.0</td>\n",
       "      <td>9.0</td>\n",
       "      <td>0.0</td>\n",
       "      <td>2823.0</td>\n",
       "      <td>0.0</td>\n",
       "      <td>Lerome Peckers</td>\n",
       "    </tr>\n",
       "    <tr>\n",
       "      <th>2</th>\n",
       "      <td>0019_01</td>\n",
       "      <td>Europa</td>\n",
       "      <td>True</td>\n",
       "      <td>C/0/S</td>\n",
       "      <td>55 Cancri e</td>\n",
       "      <td>31.000000</td>\n",
       "      <td>False</td>\n",
       "      <td>0.0</td>\n",
       "      <td>0.0</td>\n",
       "      <td>0.0</td>\n",
       "      <td>0.0</td>\n",
       "      <td>0.0</td>\n",
       "      <td>Sabih Unhearfus</td>\n",
       "    </tr>\n",
       "    <tr>\n",
       "      <th>3</th>\n",
       "      <td>0021_01</td>\n",
       "      <td>Europa</td>\n",
       "      <td>False</td>\n",
       "      <td>C/1/S</td>\n",
       "      <td>TRAPPIST-1e</td>\n",
       "      <td>38.000000</td>\n",
       "      <td>False</td>\n",
       "      <td>0.0</td>\n",
       "      <td>6652.0</td>\n",
       "      <td>0.0</td>\n",
       "      <td>181.0</td>\n",
       "      <td>585.0</td>\n",
       "      <td>Meratz Caltilter</td>\n",
       "    </tr>\n",
       "    <tr>\n",
       "      <th>4</th>\n",
       "      <td>0023_01</td>\n",
       "      <td>Earth</td>\n",
       "      <td>False</td>\n",
       "      <td>F/5/S</td>\n",
       "      <td>TRAPPIST-1e</td>\n",
       "      <td>20.000000</td>\n",
       "      <td>False</td>\n",
       "      <td>10.0</td>\n",
       "      <td>0.0</td>\n",
       "      <td>635.0</td>\n",
       "      <td>0.0</td>\n",
       "      <td>0.0</td>\n",
       "      <td>Brence Harperez</td>\n",
       "    </tr>\n",
       "    <tr>\n",
       "      <th>...</th>\n",
       "      <td>...</td>\n",
       "      <td>...</td>\n",
       "      <td>...</td>\n",
       "      <td>...</td>\n",
       "      <td>...</td>\n",
       "      <td>...</td>\n",
       "      <td>...</td>\n",
       "      <td>...</td>\n",
       "      <td>...</td>\n",
       "      <td>...</td>\n",
       "      <td>...</td>\n",
       "      <td>...</td>\n",
       "      <td>...</td>\n",
       "    </tr>\n",
       "    <tr>\n",
       "      <th>4272</th>\n",
       "      <td>9266_02</td>\n",
       "      <td>Earth</td>\n",
       "      <td>True</td>\n",
       "      <td>G/1496/S</td>\n",
       "      <td>TRAPPIST-1e</td>\n",
       "      <td>34.000000</td>\n",
       "      <td>False</td>\n",
       "      <td>0.0</td>\n",
       "      <td>0.0</td>\n",
       "      <td>0.0</td>\n",
       "      <td>0.0</td>\n",
       "      <td>0.0</td>\n",
       "      <td>Jeron Peter</td>\n",
       "    </tr>\n",
       "    <tr>\n",
       "      <th>4273</th>\n",
       "      <td>9269_01</td>\n",
       "      <td>Earth</td>\n",
       "      <td>False</td>\n",
       "      <td>NaN</td>\n",
       "      <td>TRAPPIST-1e</td>\n",
       "      <td>42.000000</td>\n",
       "      <td>False</td>\n",
       "      <td>0.0</td>\n",
       "      <td>847.0</td>\n",
       "      <td>17.0</td>\n",
       "      <td>10.0</td>\n",
       "      <td>144.0</td>\n",
       "      <td>Matty Scheron</td>\n",
       "    </tr>\n",
       "    <tr>\n",
       "      <th>4274</th>\n",
       "      <td>9271_01</td>\n",
       "      <td>Mars</td>\n",
       "      <td>True</td>\n",
       "      <td>D/296/P</td>\n",
       "      <td>55 Cancri e</td>\n",
       "      <td>28.658146</td>\n",
       "      <td>False</td>\n",
       "      <td>0.0</td>\n",
       "      <td>0.0</td>\n",
       "      <td>0.0</td>\n",
       "      <td>0.0</td>\n",
       "      <td>0.0</td>\n",
       "      <td>Jayrin Pore</td>\n",
       "    </tr>\n",
       "    <tr>\n",
       "      <th>4275</th>\n",
       "      <td>9273_01</td>\n",
       "      <td>Europa</td>\n",
       "      <td>False</td>\n",
       "      <td>D/297/P</td>\n",
       "      <td>NaN</td>\n",
       "      <td>28.658146</td>\n",
       "      <td>False</td>\n",
       "      <td>0.0</td>\n",
       "      <td>2680.0</td>\n",
       "      <td>0.0</td>\n",
       "      <td>0.0</td>\n",
       "      <td>523.0</td>\n",
       "      <td>Kitakan Conale</td>\n",
       "    </tr>\n",
       "    <tr>\n",
       "      <th>4276</th>\n",
       "      <td>9277_01</td>\n",
       "      <td>Earth</td>\n",
       "      <td>True</td>\n",
       "      <td>G/1498/S</td>\n",
       "      <td>PSO J318.5-22</td>\n",
       "      <td>43.000000</td>\n",
       "      <td>False</td>\n",
       "      <td>0.0</td>\n",
       "      <td>0.0</td>\n",
       "      <td>0.0</td>\n",
       "      <td>0.0</td>\n",
       "      <td>0.0</td>\n",
       "      <td>Lilace Leonzaley</td>\n",
       "    </tr>\n",
       "  </tbody>\n",
       "</table>\n",
       "<p>4277 rows × 13 columns</p>\n",
       "</div>"
      ],
      "text/plain": [
       "     PassengerId HomePlanet CryoSleep     Cabin    Destination        Age  \\\n",
       "0        0013_01      Earth      True     G/3/S    TRAPPIST-1e  27.000000   \n",
       "1        0018_01      Earth     False     F/4/S    TRAPPIST-1e  19.000000   \n",
       "2        0019_01     Europa      True     C/0/S    55 Cancri e  31.000000   \n",
       "3        0021_01     Europa     False     C/1/S    TRAPPIST-1e  38.000000   \n",
       "4        0023_01      Earth     False     F/5/S    TRAPPIST-1e  20.000000   \n",
       "...          ...        ...       ...       ...            ...        ...   \n",
       "4272     9266_02      Earth      True  G/1496/S    TRAPPIST-1e  34.000000   \n",
       "4273     9269_01      Earth     False       NaN    TRAPPIST-1e  42.000000   \n",
       "4274     9271_01       Mars      True   D/296/P    55 Cancri e  28.658146   \n",
       "4275     9273_01     Europa     False   D/297/P            NaN  28.658146   \n",
       "4276     9277_01      Earth      True  G/1498/S  PSO J318.5-22  43.000000   \n",
       "\n",
       "        VIP  RoomService  FoodCourt  ShoppingMall     Spa  VRDeck  \\\n",
       "0     False          0.0        0.0           0.0     0.0     0.0   \n",
       "1     False          0.0        9.0           0.0  2823.0     0.0   \n",
       "2     False          0.0        0.0           0.0     0.0     0.0   \n",
       "3     False          0.0     6652.0           0.0   181.0   585.0   \n",
       "4     False         10.0        0.0         635.0     0.0     0.0   \n",
       "...     ...          ...        ...           ...     ...     ...   \n",
       "4272  False          0.0        0.0           0.0     0.0     0.0   \n",
       "4273  False          0.0      847.0          17.0    10.0   144.0   \n",
       "4274  False          0.0        0.0           0.0     0.0     0.0   \n",
       "4275  False          0.0     2680.0           0.0     0.0   523.0   \n",
       "4276  False          0.0        0.0           0.0     0.0     0.0   \n",
       "\n",
       "                  Name  \n",
       "0      Nelly Carsoning  \n",
       "1       Lerome Peckers  \n",
       "2      Sabih Unhearfus  \n",
       "3     Meratz Caltilter  \n",
       "4      Brence Harperez  \n",
       "...                ...  \n",
       "4272       Jeron Peter  \n",
       "4273     Matty Scheron  \n",
       "4274       Jayrin Pore  \n",
       "4275    Kitakan Conale  \n",
       "4276  Lilace Leonzaley  \n",
       "\n",
       "[4277 rows x 13 columns]"
      ]
     },
     "metadata": {},
     "output_type": "display_data"
    }
   ],
   "source": [
    "#train_data=pd.DataFrame(train_data)\n",
    "display(train_data)"
   ]
  },
  {
   "cell_type": "markdown",
   "id": "f21b66c4",
   "metadata": {
    "papermill": {
     "duration": 0.016003,
     "end_time": "2024-10-28T21:05:43.876874",
     "exception": false,
     "start_time": "2024-10-28T21:05:43.860871",
     "status": "completed"
    },
    "tags": []
   },
   "source": [
    "## Inspecting Data-table"
   ]
  },
  {
   "cell_type": "code",
   "execution_count": 15,
   "id": "476f6b1b",
   "metadata": {
    "execution": {
     "iopub.execute_input": "2024-10-28T21:05:43.912506Z",
     "iopub.status.busy": "2024-10-28T21:05:43.911943Z",
     "iopub.status.idle": "2024-10-28T21:05:43.936358Z",
     "shell.execute_reply": "2024-10-28T21:05:43.934541Z"
    },
    "papermill": {
     "duration": 0.045929,
     "end_time": "2024-10-28T21:05:43.939866",
     "exception": false,
     "start_time": "2024-10-28T21:05:43.893937",
     "status": "completed"
    },
    "tags": []
   },
   "outputs": [
    {
     "name": "stdout",
     "output_type": "stream",
     "text": [
      " Columns train ['PassengerId', 'HomePlanet', 'CryoSleep', 'Cabin', 'Destination', 'Age', 'VIP', 'RoomService', 'FoodCourt', 'ShoppingMall', 'Spa', 'VRDeck', 'Name']\n",
      " Columns test ['PassengerId', 'Transported']\n",
      " Columns Xtr ['PassengerId', 'HomePlanet', 'CryoSleep', 'Cabin', 'Destination', 'Age', 'VIP', 'RoomService', 'FoodCourt', 'ShoppingMall', 'Spa', 'VRDeck']\n",
      " Columns Xte ['PassengerId', 'Transported']\n"
     ]
    }
   ],
   "source": [
    "colnames = list(train_data.columns)\n",
    "colnames_test = list(test_data.columns)\n",
    "print(\" Columns train\", colnames)\n",
    "print(\" Columns test\", colnames_test)\n",
    "X_full = train_data[colnames[:-1]]\n",
    "y_full = train_data[colnames[-1]]\n",
    "\n",
    "X_train, X_test, y_train, y_test = train_test_split(\n",
    "    X_full, y_full, test_size=0.30, random_state=42)\n",
    "\n",
    "X_validation = test_data[colnames_test]\n",
    "\n",
    "\n",
    "print(\" Columns Xtr\", list(X_train.columns))\n",
    "print(\" Columns Xte\", list(X_validation.columns))"
   ]
  },
  {
   "cell_type": "markdown",
   "id": "a35c1fea",
   "metadata": {
    "papermill": {
     "duration": 0.016329,
     "end_time": "2024-10-28T21:05:43.972655",
     "exception": false,
     "start_time": "2024-10-28T21:05:43.956326",
     "status": "completed"
    },
    "tags": []
   },
   "source": [
    "## NaN's treatment"
   ]
  },
  {
   "cell_type": "code",
   "execution_count": 16,
   "id": "3945e364",
   "metadata": {
    "execution": {
     "iopub.execute_input": "2024-10-28T21:05:44.011093Z",
     "iopub.status.busy": "2024-10-28T21:05:44.010199Z",
     "iopub.status.idle": "2024-10-28T21:05:44.410780Z",
     "shell.execute_reply": "2024-10-28T21:05:44.408946Z"
    },
    "papermill": {
     "duration": 0.423585,
     "end_time": "2024-10-28T21:05:44.413873",
     "exception": false,
     "start_time": "2024-10-28T21:05:43.990288",
     "status": "completed"
    },
    "tags": []
   },
   "outputs": [
    {
     "name": "stdout",
     "output_type": "stream",
     "text": [
      "NaN values [  0  87  93 100  92   0  93   0   0   0   0   0  94]\n",
      "NaN values PassengerId       0\n",
      "HomePlanet       87\n",
      "CryoSleep        93\n",
      "Cabin           100\n",
      "Destination      92\n",
      "Age               0\n",
      "VIP              93\n",
      "RoomService       0\n",
      "FoodCourt         0\n",
      "ShoppingMall      0\n",
      "Spa               0\n",
      "VRDeck            0\n",
      "Name             94\n",
      "dtype: int64\n"
     ]
    },
    {
     "data": {
      "text/plain": [
       "Text(0.5, 1.0, 'NaN Values Count in Each Column')"
      ]
     },
     "execution_count": 16,
     "metadata": {},
     "output_type": "execute_result"
    },
    {
     "data": {
      "image/png": "[encoded data removed]",
      "text/plain": [
       "<Figure size 640x480 with 1 Axes>"
      ]
     },
     "metadata": {},
     "output_type": "display_data"
    }
   ],
   "source": [
    "# Look at how many nan values we have in each category\n",
    "# Approach 1\n",
    "total_data = len(train_data) \n",
    "count_non_nans = np.array(train_data.count(axis=0) )\n",
    "print(\"NaN values\", total_data-count_non_nans)\n",
    "# Approach 2\n",
    "nan_counts = train_data[1:-1].isna().sum(axis=0)\n",
    "print(\"NaN values\", nan_counts)\n",
    "\n",
    "sns.barplot(x=nan_counts[1:-1].index, y=nan_counts[1:-1].values)\n",
    "plt.xticks(rotation=90) \n",
    "plt.ylabel('Number of NaN Values')\n",
    "plt.title('NaN Values Count in Each Column')"
   ]
  },
  {
   "cell_type": "code",
   "execution_count": 17,
   "id": "7ad52dbc",
   "metadata": {
    "execution": {
     "iopub.execute_input": "2024-10-28T21:05:44.452999Z",
     "iopub.status.busy": "2024-10-28T21:05:44.452406Z",
     "iopub.status.idle": "2024-10-28T21:05:44.476931Z",
     "shell.execute_reply": "2024-10-28T21:05:44.474693Z"
    },
    "papermill": {
     "duration": 0.048289,
     "end_time": "2024-10-28T21:05:44.480663",
     "exception": false,
     "start_time": "2024-10-28T21:05:44.432374",
     "status": "completed"
    },
    "tags": []
   },
   "outputs": [
    {
     "name": "stdout",
     "output_type": "stream",
     "text": [
      "28 / 559  values intersect\n"
     ]
    }
   ],
   "source": [
    "# are there values that intersect?\n",
    "# print(train_data[train_data.isna().any(axis=1)])\n",
    "total_count_nan = train_data.isna().sum().sum()\n",
    "intersect_count = (train_data.isna().sum(axis=1) > 1).sum()\n",
    "print(intersect_count , \"/\", total_count_nan, \" values intersect\" )"
   ]
  },
  {
   "cell_type": "markdown",
   "id": "2dc4bbbd",
   "metadata": {
    "papermill": {
     "duration": 0.019053,
     "end_time": "2024-10-28T21:05:44.517793",
     "exception": false,
     "start_time": "2024-10-28T21:05:44.498740",
     "status": "completed"
    },
    "tags": []
   },
   "source": [
    "* The number of NaN values is not negligible so we will deal with them. "
   ]
  },
  {
   "cell_type": "markdown",
   "id": "5fbb2a17",
   "metadata": {
    "papermill": {
     "duration": 0.017049,
     "end_time": "2024-10-28T21:05:44.552422",
     "exception": false,
     "start_time": "2024-10-28T21:05:44.535373",
     "status": "completed"
    },
    "tags": []
   },
   "source": [
    "# Preprocessing Data\n",
    "We will convert all data in numerical values to fed our NN. Since names are all differents, we deleted that column from our data in the first try \n",
    "\n",
    "__Preprocessing__ [TODO]\n",
    "- Analyze correlations between features\n",
    "- Implement PCA to reduce dimensionality\n",
    "\n",
    "__We will try 3 independent models__\n",
    "1. SVM\n",
    "2. KNN\n",
    "3. Random Forest"
   ]
  },
  {
   "cell_type": "code",
   "execution_count": 18,
   "id": "ee8968c5",
   "metadata": {
    "execution": {
     "iopub.execute_input": "2024-10-28T21:05:44.591605Z",
     "iopub.status.busy": "2024-10-28T21:05:44.591033Z",
     "iopub.status.idle": "2024-10-28T21:05:44.736370Z",
     "shell.execute_reply": "2024-10-28T21:05:44.734181Z"
    },
    "papermill": {
     "duration": 0.16921,
     "end_time": "2024-10-28T21:05:44.739742",
     "exception": false,
     "start_time": "2024-10-28T21:05:44.570532",
     "status": "completed"
    },
    "tags": []
   },
   "outputs": [
    {
     "ename": "KeyError",
     "evalue": "\"['Name'] not found in axis\"",
     "output_type": "error",
     "traceback": [
      "\u001b[0;31m---------------------------------------------------------------------------\u001b[0m",
      "\u001b[0;31mKeyError\u001b[0m                                  Traceback (most recent call last)",
      "Cell \u001b[0;32mIn[18], line 55\u001b[0m\n\u001b[1;32m     53\u001b[0m X_train_pp \u001b[38;5;241m=\u001b[39m X_train\u001b[38;5;241m.\u001b[39mcopy()\n\u001b[1;32m     54\u001b[0m X_test_pp \u001b[38;5;241m=\u001b[39m X_test\u001b[38;5;241m.\u001b[39mcopy()\n\u001b[0;32m---> 55\u001b[0m \u001b[43mX_train_pp\u001b[49m\u001b[38;5;241;43m.\u001b[39;49m\u001b[43mdrop\u001b[49m\u001b[43m(\u001b[49m\u001b[43mcolumns\u001b[49m\u001b[38;5;241;43m=\u001b[39;49m\u001b[38;5;124;43m'\u001b[39;49m\u001b[38;5;124;43mName\u001b[39;49m\u001b[38;5;124;43m'\u001b[39;49m\u001b[43m,\u001b[49m\u001b[43m \u001b[49m\u001b[43minplace\u001b[49m\u001b[38;5;241;43m=\u001b[39;49m\u001b[38;5;28;43;01mTrue\u001b[39;49;00m\u001b[43m)\u001b[49m\n\u001b[1;32m     56\u001b[0m X_test_pp\u001b[38;5;241m.\u001b[39mdrop(columns\u001b[38;5;241m=\u001b[39m\u001b[38;5;124m'\u001b[39m\u001b[38;5;124mName\u001b[39m\u001b[38;5;124m'\u001b[39m, inplace\u001b[38;5;241m=\u001b[39m\u001b[38;5;28;01mTrue\u001b[39;00m)\n\u001b[1;32m     57\u001b[0m \u001b[38;5;66;03m#X_train_svc = normalize_data(X_train_pp)\u001b[39;00m\n",
      "File \u001b[0;32m~/miniconda3/envs/devtin/lib/python3.12/site-packages/pandas/core/frame.py:5344\u001b[0m, in \u001b[0;36mDataFrame.drop\u001b[0;34m(self, labels, axis, index, columns, level, inplace, errors)\u001b[0m\n\u001b[1;32m   5196\u001b[0m \u001b[38;5;28;01mdef\u001b[39;00m \u001b[38;5;21mdrop\u001b[39m(\n\u001b[1;32m   5197\u001b[0m     \u001b[38;5;28mself\u001b[39m,\n\u001b[1;32m   5198\u001b[0m     labels: IndexLabel \u001b[38;5;241m|\u001b[39m \u001b[38;5;28;01mNone\u001b[39;00m \u001b[38;5;241m=\u001b[39m \u001b[38;5;28;01mNone\u001b[39;00m,\n\u001b[0;32m   (...)\u001b[0m\n\u001b[1;32m   5205\u001b[0m     errors: IgnoreRaise \u001b[38;5;241m=\u001b[39m \u001b[38;5;124m\"\u001b[39m\u001b[38;5;124mraise\u001b[39m\u001b[38;5;124m\"\u001b[39m,\n\u001b[1;32m   5206\u001b[0m ) \u001b[38;5;241m-\u001b[39m\u001b[38;5;241m>\u001b[39m DataFrame \u001b[38;5;241m|\u001b[39m \u001b[38;5;28;01mNone\u001b[39;00m:\n\u001b[1;32m   5207\u001b[0m \u001b[38;5;250m    \u001b[39m\u001b[38;5;124;03m\"\"\"\u001b[39;00m\n\u001b[1;32m   5208\u001b[0m \u001b[38;5;124;03m    Drop specified labels from rows or columns.\u001b[39;00m\n\u001b[1;32m   5209\u001b[0m \n\u001b[0;32m   (...)\u001b[0m\n\u001b[1;32m   5342\u001b[0m \u001b[38;5;124;03m            weight  1.0     0.8\u001b[39;00m\n\u001b[1;32m   5343\u001b[0m \u001b[38;5;124;03m    \"\"\"\u001b[39;00m\n\u001b[0;32m-> 5344\u001b[0m     \u001b[38;5;28;01mreturn\u001b[39;00m \u001b[38;5;28;43msuper\u001b[39;49m\u001b[43m(\u001b[49m\u001b[43m)\u001b[49m\u001b[38;5;241;43m.\u001b[39;49m\u001b[43mdrop\u001b[49m\u001b[43m(\u001b[49m\n\u001b[1;32m   5345\u001b[0m \u001b[43m        \u001b[49m\u001b[43mlabels\u001b[49m\u001b[38;5;241;43m=\u001b[39;49m\u001b[43mlabels\u001b[49m\u001b[43m,\u001b[49m\n\u001b[1;32m   5346\u001b[0m \u001b[43m        \u001b[49m\u001b[43maxis\u001b[49m\u001b[38;5;241;43m=\u001b[39;49m\u001b[43maxis\u001b[49m\u001b[43m,\u001b[49m\n\u001b[1;32m   5347\u001b[0m \u001b[43m        \u001b[49m\u001b[43mindex\u001b[49m\u001b[38;5;241;43m=\u001b[39;49m\u001b[43mindex\u001b[49m\u001b[43m,\u001b[49m\n\u001b[1;32m   5348\u001b[0m \u001b[43m        \u001b[49m\u001b[43mcolumns\u001b[49m\u001b[38;5;241;43m=\u001b[39;49m\u001b[43mcolumns\u001b[49m\u001b[43m,\u001b[49m\n\u001b[1;32m   5349\u001b[0m \u001b[43m        \u001b[49m\u001b[43mlevel\u001b[49m\u001b[38;5;241;43m=\u001b[39;49m\u001b[43mlevel\u001b[49m\u001b[43m,\u001b[49m\n\u001b[1;32m   5350\u001b[0m \u001b[43m        \u001b[49m\u001b[43minplace\u001b[49m\u001b[38;5;241;43m=\u001b[39;49m\u001b[43minplace\u001b[49m\u001b[43m,\u001b[49m\n\u001b[1;32m   5351\u001b[0m \u001b[43m        \u001b[49m\u001b[43merrors\u001b[49m\u001b[38;5;241;43m=\u001b[39;49m\u001b[43merrors\u001b[49m\u001b[43m,\u001b[49m\n\u001b[1;32m   5352\u001b[0m \u001b[43m    \u001b[49m\u001b[43m)\u001b[49m\n",
      "File \u001b[0;32m~/miniconda3/envs/devtin/lib/python3.12/site-packages/pandas/core/generic.py:4711\u001b[0m, in \u001b[0;36mNDFrame.drop\u001b[0;34m(self, labels, axis, index, columns, level, inplace, errors)\u001b[0m\n\u001b[1;32m   4709\u001b[0m \u001b[38;5;28;01mfor\u001b[39;00m axis, labels \u001b[38;5;129;01min\u001b[39;00m axes\u001b[38;5;241m.\u001b[39mitems():\n\u001b[1;32m   4710\u001b[0m     \u001b[38;5;28;01mif\u001b[39;00m labels \u001b[38;5;129;01mis\u001b[39;00m \u001b[38;5;129;01mnot\u001b[39;00m \u001b[38;5;28;01mNone\u001b[39;00m:\n\u001b[0;32m-> 4711\u001b[0m         obj \u001b[38;5;241m=\u001b[39m \u001b[43mobj\u001b[49m\u001b[38;5;241;43m.\u001b[39;49m\u001b[43m_drop_axis\u001b[49m\u001b[43m(\u001b[49m\u001b[43mlabels\u001b[49m\u001b[43m,\u001b[49m\u001b[43m \u001b[49m\u001b[43maxis\u001b[49m\u001b[43m,\u001b[49m\u001b[43m \u001b[49m\u001b[43mlevel\u001b[49m\u001b[38;5;241;43m=\u001b[39;49m\u001b[43mlevel\u001b[49m\u001b[43m,\u001b[49m\u001b[43m \u001b[49m\u001b[43merrors\u001b[49m\u001b[38;5;241;43m=\u001b[39;49m\u001b[43merrors\u001b[49m\u001b[43m)\u001b[49m\n\u001b[1;32m   4713\u001b[0m \u001b[38;5;28;01mif\u001b[39;00m inplace:\n\u001b[1;32m   4714\u001b[0m     \u001b[38;5;28mself\u001b[39m\u001b[38;5;241m.\u001b[39m_update_inplace(obj)\n",
      "File \u001b[0;32m~/miniconda3/envs/devtin/lib/python3.12/site-packages/pandas/core/generic.py:4753\u001b[0m, in \u001b[0;36mNDFrame._drop_axis\u001b[0;34m(self, labels, axis, level, errors, only_slice)\u001b[0m\n\u001b[1;32m   4751\u001b[0m         new_axis \u001b[38;5;241m=\u001b[39m axis\u001b[38;5;241m.\u001b[39mdrop(labels, level\u001b[38;5;241m=\u001b[39mlevel, errors\u001b[38;5;241m=\u001b[39merrors)\n\u001b[1;32m   4752\u001b[0m     \u001b[38;5;28;01melse\u001b[39;00m:\n\u001b[0;32m-> 4753\u001b[0m         new_axis \u001b[38;5;241m=\u001b[39m \u001b[43maxis\u001b[49m\u001b[38;5;241;43m.\u001b[39;49m\u001b[43mdrop\u001b[49m\u001b[43m(\u001b[49m\u001b[43mlabels\u001b[49m\u001b[43m,\u001b[49m\u001b[43m \u001b[49m\u001b[43merrors\u001b[49m\u001b[38;5;241;43m=\u001b[39;49m\u001b[43merrors\u001b[49m\u001b[43m)\u001b[49m\n\u001b[1;32m   4754\u001b[0m     indexer \u001b[38;5;241m=\u001b[39m axis\u001b[38;5;241m.\u001b[39mget_indexer(new_axis)\n\u001b[1;32m   4756\u001b[0m \u001b[38;5;66;03m# Case for non-unique axis\u001b[39;00m\n\u001b[1;32m   4757\u001b[0m \u001b[38;5;28;01melse\u001b[39;00m:\n",
      "File \u001b[0;32m~/miniconda3/envs/devtin/lib/python3.12/site-packages/pandas/core/indexes/base.py:7000\u001b[0m, in \u001b[0;36mIndex.drop\u001b[0;34m(self, labels, errors)\u001b[0m\n\u001b[1;32m   6998\u001b[0m \u001b[38;5;28;01mif\u001b[39;00m mask\u001b[38;5;241m.\u001b[39many():\n\u001b[1;32m   6999\u001b[0m     \u001b[38;5;28;01mif\u001b[39;00m errors \u001b[38;5;241m!=\u001b[39m \u001b[38;5;124m\"\u001b[39m\u001b[38;5;124mignore\u001b[39m\u001b[38;5;124m\"\u001b[39m:\n\u001b[0;32m-> 7000\u001b[0m         \u001b[38;5;28;01mraise\u001b[39;00m \u001b[38;5;167;01mKeyError\u001b[39;00m(\u001b[38;5;124mf\u001b[39m\u001b[38;5;124m\"\u001b[39m\u001b[38;5;132;01m{\u001b[39;00mlabels[mask]\u001b[38;5;241m.\u001b[39mtolist()\u001b[38;5;132;01m}\u001b[39;00m\u001b[38;5;124m not found in axis\u001b[39m\u001b[38;5;124m\"\u001b[39m)\n\u001b[1;32m   7001\u001b[0m     indexer \u001b[38;5;241m=\u001b[39m indexer[\u001b[38;5;241m~\u001b[39mmask]\n\u001b[1;32m   7002\u001b[0m \u001b[38;5;28;01mreturn\u001b[39;00m \u001b[38;5;28mself\u001b[39m\u001b[38;5;241m.\u001b[39mdelete(indexer)\n",
      "\u001b[0;31mKeyError\u001b[0m: \"['Name'] not found in axis\""
     ]
    }
   ],
   "source": [
    "def normalize_data(X_train_pp):\n",
    "    ## PassengerId: Convert PassengerId by family \n",
    "    rename_passId = lambda name: int(name.split(\"_\")[0])\n",
    "    X_train_pp['PassengerId']= X_train_pp['PassengerId'].apply(rename_passId)\n",
    "    \n",
    "    ## HomePlanet (keeping NaN)\n",
    "    # Generate multiple new features according the HomePlannet (OneHotEncoding)\n",
    "    # ok print(\"HomePlanet\", X_train_pp['HomePlanet'].isna().sum())\n",
    "    mask_nan = X_train_pp['HomePlanet'].isna()\n",
    "    X_train_pp = pd.get_dummies(X_train_pp, columns=['HomePlanet'], dtype=int)\n",
    "    # Get all column names that start with 'HomePlanet_'\n",
    "    homeplanet_columns = [col for col in X_train_pp.columns if col.startswith('HomePlanet_')]\n",
    "    X_train_pp.loc[mask_nan, homeplanet_columns] = float('nan')\n",
    "    # ok print(\"HomePlanet\", X_train_pp[homeplanet_columns].isna().sum())\n",
    "    \n",
    "    ## Destination (keeping NaN)\n",
    "    # Generate multiple new features according the Destination (OneHotEncoding)\n",
    "    # ok print(\"Destination\", X_train_pp.Destination.isna().sum())\n",
    "    mask_nan = X_train_pp['Destination'].isna()\n",
    "    X_train_pp = pd.get_dummies(X_train_pp, columns=['Destination'], dtype=int)\n",
    "    # Get all column names that start with 'HomePlanet_'\n",
    "    destination_columns = [col for col in X_train_pp.columns if col.startswith('Destination_')]\n",
    "    X_train_pp.loc[mask_nan, destination_columns] = float('nan')\n",
    "    # ok print(\"Destination\", X_train_pp[destination_columns].isna().sum())\n",
    "    \n",
    "    ## CryoSleep & VIP\n",
    "    #CryoSleep -> from bool to int\n",
    "    label_mapping = {True: 1, False: 0}\n",
    "    for ilabel in ['CryoSleep', 'VIP']:\n",
    "        mask_nan = X_train_pp[ilabel].isna()\n",
    "        X_train_pp[ilabel] = X_train_pp[ilabel].map(label_mapping)\n",
    "        X_train_pp.loc[mask_nan, [ilabel]] = float('nan')\n",
    "    \n",
    "    ## Cabin\n",
    "    # Split the Cabin column into three different columns = deck/num/side to have better resolution\n",
    "    mask_nan = X_train_pp['Cabin'].isna()\n",
    "    X_train_pp.Cabin = X_train_pp.Cabin.replace(to_replace = np.nan, value = 'nan/nan/nan')\n",
    "    X_train_pp[['Deck', 'Num', 'Side']] = X_train_pp['Cabin'].str.split('/', expand=True)\n",
    "    for clabel in ['Deck', 'Num', 'Side']:\n",
    "        X_train_pp.loc[mask_nan, [clabel]] = float('nan')\n",
    "    # Now let's use LabelEncoding for deck and side \n",
    "    label_encoder = LabelEncoder()\n",
    "    # Fit the encoder and transform the 'deck' and 'side' columns\n",
    "    X_train_pp['Deck'] = label_encoder.fit_transform(X_train_pp['Deck'])\n",
    "    \n",
    "    X_train_pp['Side'] = label_encoder.fit_transform(X_train_pp['Side'])\n",
    "    X_train_pp.drop(columns=['Cabin'], inplace=True)\n",
    "    for clabel in ['Deck', 'Side', 'Num']:\n",
    "        X_train_pp.loc[mask_nan, [clabel]] = float('nan')\n",
    "    \n",
    "    return X_train_pp\n",
    "# Remove Name from X_train and X_test\n",
    "X_train_pp = X_train.copy()\n",
    "X_test_pp = X_test.copy()\n",
    "X_train_pp.drop(columns='Name', inplace=True)\n",
    "X_test_pp.drop(columns='Name', inplace=True)\n",
    "#X_train_svc = normalize_data(X_train_pp)\n",
    "X_train_ = normalize_data(X_train_pp)\n",
    "X_test_ = normalize_data(X_test_pp)\n",
    "print(\"Orig\", train_data.isna().sum(axis=0).sum())\n",
    "print(\"Prep\", X_train_.isna().sum(axis=0).sum()+X_test_.isna().sum(axis=0).sum())\n",
    "#print(\"Prep\", X_test_.isna().sum(axis=0).sum())\n",
    "print(201*2+199*2+182*2-200) #-200 because I deleted Name column for the analysis\n",
    "print(3288-2324)\n",
    "#"
   ]
  },
  {
   "cell_type": "code",
   "execution_count": 19,
   "id": "b84b92e3",
   "metadata": {
    "execution": {
     "iopub.execute_input": "2024-10-28T21:05:44.779338Z",
     "iopub.status.busy": "2024-10-28T21:05:44.778815Z",
     "iopub.status.idle": "2024-10-28T21:05:47.079282Z",
     "shell.execute_reply": "2024-10-28T21:05:47.078151Z"
    },
    "papermill": {
     "duration": 2.324967,
     "end_time": "2024-10-28T21:05:47.083517",
     "exception": false,
     "start_time": "2024-10-28T21:05:44.758550",
     "status": "completed"
    },
    "tags": []
   },
   "outputs": [
    {
     "ename": "NameError",
     "evalue": "name 'X_train_' is not defined",
     "output_type": "error",
     "traceback": [
      "\u001b[0;31m---------------------------------------------------------------------------\u001b[0m",
      "\u001b[0;31mNameError\u001b[0m                                 Traceback (most recent call last)",
      "Cell \u001b[0;32mIn[19], line 4\u001b[0m\n\u001b[1;32m      1\u001b[0m preproc \u001b[38;5;241m=\u001b[39m \u001b[38;5;28;01mTrue\u001b[39;00m\n\u001b[1;32m      2\u001b[0m \u001b[38;5;28;01mif\u001b[39;00m preproc:\n\u001b[1;32m      3\u001b[0m     \u001b[38;5;66;03m# Compute the correlation matrix\u001b[39;00m\n\u001b[0;32m----> 4\u001b[0m     corr_matrix \u001b[38;5;241m=\u001b[39m pd\u001b[38;5;241m.\u001b[39mDataFrame(\u001b[43mX_train_\u001b[49m)\u001b[38;5;241m.\u001b[39mcorr()\n\u001b[1;32m      6\u001b[0m     \u001b[38;5;66;03m# Plotting the correlation matrix as a heatmap\u001b[39;00m\n\u001b[1;32m      7\u001b[0m     plt\u001b[38;5;241m.\u001b[39mfigure(figsize\u001b[38;5;241m=\u001b[39m(\u001b[38;5;241m12\u001b[39m, \u001b[38;5;241m8\u001b[39m))\n",
      "\u001b[0;31mNameError\u001b[0m: name 'X_train_' is not defined"
     ]
    }
   ],
   "source": [
    "preproc = True\n",
    "if preproc:\n",
    "    # Compute the correlation matrix\n",
    "    corr_matrix = pd.DataFrame(X_train_).corr()\n",
    "\n",
    "    # Plotting the correlation matrix as a heatmap\n",
    "    plt.figure(figsize=(12, 8))\n",
    "    sns.heatmap(corr_matrix, annot=True, fmt='.2f', \n",
    "                cmap='coolwarm', cbar=True, square=True)\n",
    "    plt.title('Correlation Matrix Heatmap')\n",
    "    plt.show()\n",
    "\n",
    "    # Set a correlation threshold (e.g., 0.85)\n",
    "    threshold = 0.85\n",
    "\n",
    "    # Find pairs of features that are highly correlated\n",
    "    high_corr_pairs = np.where(np.abs(corr_matrix) > threshold)\n",
    "    high_corr_pairs = [(corr_matrix.index[x], corr_matrix.columns[y]) for x, y in zip(*high_corr_pairs) if x != y and x < y]\n",
    "\n",
    "    print(\"Highly correlated feature pairs (above the threshold):\")\n",
    "    for pair in high_corr_pairs:\n",
    "        print(pair)\n",
    "\n",
    "    ##########################\n",
    "    ##########\n",
    "    ########## Applying Preprocessing to the data.\n",
    "    ##########\n",
    "    ###########################\n",
    "    # Assuming your dataset X (with 18 features) is stored in a pandas DataFrame\n",
    "    # X = your dataframe with 18 features\n",
    "\n",
    "    # Step 1: Standardize the data\n",
    "    scaler = StandardScaler()\n",
    "    X_scaled_ = scaler.fit_transform(X_train_)\n",
    "    X_scaled = np.nan_to_num(X_scaled_, nan=-1.0)\n",
    "\n",
    "    # Step 2: Apply PCA\n",
    "    pca = PCA()  # You can also specify the number of components like PCA(n_components=5)\n",
    "    X_pca = pca.fit_transform(X_scaled)\n",
    "\n",
    "    # Step 3: Analyze the explained variance\n",
    "    explained_variance = pca.explained_variance_ratio_\n",
    "    cumulative_variance = np.cumsum(explained_variance)\n",
    "\n",
    "    # Step 4: Plot the explained variance and cumulative variance\n",
    "    plt.figure(figsize=(10, 6))\n",
    "    plt.bar(range(1, len(explained_variance) + 1), explained_variance, alpha=0.6, label='Individual explained variance')\n",
    "    plt.step(range(1, len(cumulative_variance) + 1), cumulative_variance, where='mid', label='Cumulative explained variance')\n",
    "    plt.xlabel('Principal components')\n",
    "    plt.ylabel('Explained variance ratio')\n",
    "    plt.title('Explained Variance by Principal Components')\n",
    "    plt.legend(loc='best')\n",
    "    plt.tight_layout()\n",
    "    plt.show()\n",
    "\n",
    "    # Step 5: Select the number of components (e.g., for pctg% variance)\n",
    "    pctg=0.97\n",
    "    n_components = np.argmax(cumulative_variance >= pctg) + 1\n",
    "    print(f'Number of components to retain {pctg}% variance: {n_components}')\n",
    "\n",
    "    # Step 6: Transform the dataset with the selected number of components\n",
    "    pca_final = PCA(n_components=n_components)\n",
    "    X_reduced = pca_final.fit_transform(X_scaled)\n",
    "\n",
    "    print(f\"Original shape: {X_train_.shape}\")\n",
    "    print(f\"Reduced shape after PCA: {X_reduced.shape}\")"
   ]
  },
  {
   "cell_type": "markdown",
   "id": "b659f12e",
   "metadata": {
    "papermill": {
     "duration": 0.039445,
     "end_time": "2024-10-28T21:05:47.191773",
     "exception": false,
     "start_time": "2024-10-28T21:05:47.152328",
     "status": "completed"
    },
    "tags": []
   },
   "source": [
    "There are no notable correlations between the features and two of the eighteen features could be left out since they do not explain 99% of the variance observed in the data, therefore we will not eliminate any component since there will be no notable difference in the processing."
   ]
  },
  {
   "cell_type": "markdown",
   "id": "74c45749",
   "metadata": {
    "papermill": {
     "duration": 0.024095,
     "end_time": "2024-10-28T21:05:47.240976",
     "exception": false,
     "start_time": "2024-10-28T21:05:47.216881",
     "status": "completed"
    },
    "tags": []
   },
   "source": [
    "## Data Analysis\n",
    "\n",
    "Look at the original data. We inspect the data in different formats"
   ]
  },
  {
   "cell_type": "code",
   "execution_count": 11,
   "id": "d52d377b",
   "metadata": {
    "execution": {
     "iopub.execute_input": "2024-10-28T21:05:47.291637Z",
     "iopub.status.busy": "2024-10-28T21:05:47.291120Z",
     "iopub.status.idle": "2024-10-28T21:05:48.638967Z",
     "shell.execute_reply": "2024-10-28T21:05:48.637516Z"
    },
    "papermill": {
     "duration": 1.377661,
     "end_time": "2024-10-28T21:05:48.643230",
     "exception": false,
     "start_time": "2024-10-28T21:05:47.265569",
     "status": "completed"
    },
    "tags": []
   },
   "outputs": [
    {
     "name": "stdout",
     "output_type": "stream",
     "text": [
      "Index(['PassengerId', 'HomePlanet', 'CryoSleep', 'Cabin', 'Destination', 'Age',\n",
      "       'VIP', 'RoomService', 'FoodCourt', 'ShoppingMall', 'Spa', 'VRDeck',\n",
      "       'Name'],\n",
      "      dtype='object')\n",
      "6217 8691\n"
     ]
    },
    {
     "name": "stderr",
     "output_type": "stream",
     "text": [
      "/opt/conda/lib/python3.10/site-packages/seaborn/_oldcore.py:1119: FutureWarning: use_inf_as_na option is deprecated and will be removed in a future version. Convert inf values to NaN before operating instead.\n",
      "  with pd.option_context('mode.use_inf_as_na', True):\n"
     ]
    },
    {
     "data": {
      "text/plain": [
       "<Axes: xlabel='Age', ylabel='Count'>"
      ]
     },
     "execution_count": 11,
     "metadata": {},
     "output_type": "execute_result"
    },
    {
     "data": {
      "image/png": "[encoded data removed]",
      "text/plain": [
       "<Figure size 1200x1500 with 6 Axes>"
      ]
     },
     "metadata": {},
     "output_type": "display_data"
    }
   ],
   "source": [
    "# Load Data to plot using Seaborn\n",
    "print(X_full.columns)#X_train.columns, X_full.columns, train_data.columns\n",
    "# 1. How many groups (look at pp from gggg_pp)\n",
    "prevValueGroup = int(X_full['PassengerId'].iloc[0].split('_')[1])\n",
    "one_in_group = []\n",
    "two_in_group = []\n",
    "thr_in_group = []\n",
    "fou_in_group = []\n",
    "fiv_in_group = []\n",
    "six_in_group = []\n",
    "sev_in_group = []\n",
    "eig_in_group = []\n",
    "for j, idpass in enumerate(X_full['PassengerId'][1:-1]):\n",
    "    countId, groupId = [int(x) for x in idpass.split('_')]\n",
    "    partialGroup = groupId\n",
    "    if (prevValueGroup == 1) & (partialGroup == 1):\n",
    "        one_in_group.append(prevValueGroup)\n",
    "    if (prevValueGroup == 2) & (partialGroup == 1):\n",
    "        two_in_group.append(prevValueGroup)\n",
    "    if (prevValueGroup == 3) & (partialGroup == 1):\n",
    "        thr_in_group.append(prevValueGroup)\n",
    "    if (prevValueGroup == 4) & (partialGroup == 1):\n",
    "        fou_in_group.append(prevValueGroup)\n",
    "    if (prevValueGroup == 5) & (partialGroup == 1):\n",
    "        fiv_in_group.append(prevValueGroup)\n",
    "    if (prevValueGroup == 6) & (partialGroup == 1):\n",
    "        six_in_group.append(prevValueGroup)\n",
    "    if (prevValueGroup == 7) & (partialGroup == 1):\n",
    "        sev_in_group.append(prevValueGroup)\n",
    "    if (prevValueGroup == 8) & (partialGroup == 1):\n",
    "        eig_in_group.append(prevValueGroup)\n",
    "    if (prevValueGroup > 8):\n",
    "        print(\"No group\", j, prevValueGroup)\n",
    "    prevValueGroup = partialGroup\n",
    "two_in_group.append(int(X_full['PassengerId'].iloc[-1].split('_')[1]))\n",
    "joint_groups = one_in_group+ two_in_group+ thr_in_group+ fou_in_group+\\\n",
    "               fiv_in_group+ six_in_group+ sev_in_group+ eig_in_group\n",
    "fir_four = len(one_in_group) + len(two_in_group) + len(thr_in_group) + len(fou_in_group)\n",
    "sec_four = len(fiv_in_group) + len(six_in_group) + len(sev_in_group) + len(eig_in_group)\n",
    "print(fir_four+sec_four, len(X_full['PassengerId'][1:-1]))\n",
    "\n",
    "fig, ax = plt.subplots(nrows=3, ncols=2, figsize=(12,15))\n",
    "ax = ax.ravel()\n",
    "ax[0].hist(joint_groups, bins = 7)\n",
    "ax[0].set_xlabel(\"Number of passengers in each group\")\n",
    "ax[0].set_ylabel(\"Number of groups in each category\")\n",
    "ax[0].grid()\n",
    "#joint_groups_df = pd.DataFrame({'groups': joint_groups})\n",
    "#fig,ax1 = plt.subplots(ncols=1,figsize=(8,4))\n",
    "#val1 = joint_groups_df.value_counts()\n",
    "#val1.plot(kind='pie',label=\"\",\n",
    "#          textprops={'fontsize':10},\n",
    "#          explode=(0.01,0.01,0.01,0.01,0.01,0.01,0.01,0.01), \n",
    "#          autopct='%1.1f%%',  # Shows percentage\n",
    "#          pctdistance=0.85,   # Adjust distance of the percentage text from the center\n",
    "#          labeldistance=1.1,  # Adjust distance of the labels from the center\n",
    "#          startangle=90,      # Rotate the start angle\n",
    "#          ax = ax1)\n",
    "#ax1.legend(loc='best', bbox_to_anchor=(1, 0.5), labels=val1.index)\n",
    "\n",
    "# 2. From which planet comes from\n",
    "# Step 1: Count occurrences of each category\n",
    "counts = X_full['HomePlanet'].value_counts()\n",
    "# Step 2: Plot the pie chart\n",
    "ax[2].pie(counts, \n",
    "        labels=counts.index,  # Labels are the category names (e.g., Europa, Earth)\n",
    "        autopct='%1.1f%%',    # Display percentages on the chart\n",
    "        startangle=90,        # Start the pie chart from the top\n",
    "        explode=[0.05] * len(counts),  # Optional: Separate the slices slightly\n",
    "        textprops={'fontsize': 12})  # Font size for labels\n",
    "ax[2].set_title('Planets Distribution')  # Optional: Add a title\n",
    "\n",
    "# 3. Deck distros (pie plot)\n",
    "counts_deck = X_train_['Deck'].value_counts()\n",
    "ax[1].pie(counts_deck,\n",
    "         labels=counts_deck.index,\n",
    "          autopct='%1.0f%%',\n",
    "          startangle=90,\n",
    "          explode=[0.05] * len(counts_deck),\n",
    "         textprops={'fontsize': 12})\n",
    "ax[1].set_title(\"Decks distribution\")\n",
    "# 4. Destination planet\n",
    "counts_dest = X_full['Destination'].value_counts()\n",
    "ax[3].pie(counts_dest,\n",
    "         labels=counts_dest.index,\n",
    "         autopct='%1.1f%%',\n",
    "         startangle=90,\n",
    "         explode=[0.05] * len(counts_dest),\n",
    "         textprops={'fontsize':12})\n",
    "ax[3].set_title(\"Desination planet\")\n",
    "\n",
    "# 5. Cryo Sleep (count)\n",
    "counts_cryo = X_full['CryoSleep'].value_counts()\n",
    "label_mapping = {True: 'Yes', False: 'No'}\n",
    "mapped_labels = counts_cryo.index.map(label_mapping)\n",
    "ax[4].pie(counts_cryo,\n",
    "         labels=mapped_labels,#counts_cryo.index,\n",
    "         startangle=90,\n",
    "         explode=[0.05] * len(counts_cryo),\n",
    "         textprops={'fontsize':12})\n",
    "ax[4].set_title(\"In Cryo?\")\n",
    "\n",
    "# 6. How much it cost in total and in each topic (cumulative histogram)\n",
    "sns.histplot(data=X_full['Age'], ax = ax[5])\n"
   ]
  },
  {
   "cell_type": "markdown",
   "id": "90406ce0",
   "metadata": {
    "execution": {
     "iopub.execute_input": "2024-10-21T19:08:13.889279Z",
     "iopub.status.busy": "2024-10-21T19:08:13.888843Z",
     "iopub.status.idle": "2024-10-21T19:08:13.921929Z",
     "shell.execute_reply": "2024-10-21T19:08:13.920447Z",
     "shell.execute_reply.started": "2024-10-21T19:08:13.889238Z"
    },
    "papermill": {
     "duration": 0.027521,
     "end_time": "2024-10-28T21:05:48.698482",
     "exception": false,
     "start_time": "2024-10-28T21:05:48.670961",
     "status": "completed"
    },
    "tags": []
   },
   "source": [
    "## Normalization/Standarization of data\n",
    "We will use standar scaler from **scikit-learn** (mean = 0 and standar deviation = 1)"
   ]
  },
  {
   "cell_type": "code",
   "execution_count": 12,
   "id": "aa6908e0",
   "metadata": {
    "execution": {
     "iopub.execute_input": "2024-10-28T21:05:48.755948Z",
     "iopub.status.busy": "2024-10-28T21:05:48.755372Z",
     "iopub.status.idle": "2024-10-28T21:05:48.819127Z",
     "shell.execute_reply": "2024-10-28T21:05:48.817170Z"
    },
    "papermill": {
     "duration": 0.097146,
     "end_time": "2024-10-28T21:05:48.822895",
     "exception": false,
     "start_time": "2024-10-28T21:05:48.725749",
     "status": "completed"
    },
    "tags": []
   },
   "outputs": [
    {
     "name": "stdout",
     "output_type": "stream",
     "text": [
      "2166\n"
     ]
    }
   ],
   "source": [
    "scaler = StandardScaler()\n",
    "cols_to_norm = ['Age', 'RoomService', 'FoodCourt', 'ShoppingMall', 'Spa', 'VRDeck']\n",
    "X_train_scaled = scaler.fit_transform(X_train_)\n",
    "X_test_scaled = scaler.fit_transform(X_test_)\n",
    "print(np.isnan(X_train_scaled).sum(axis=0).sum()+np.isnan(X_test_scaled).sum(axis=0).sum())"
   ]
  },
  {
   "cell_type": "code",
   "execution_count": 13,
   "id": "f455abe0",
   "metadata": {
    "execution": {
     "iopub.execute_input": "2024-10-28T21:05:48.878025Z",
     "iopub.status.busy": "2024-10-28T21:05:48.877541Z",
     "iopub.status.idle": "2024-10-28T21:05:48.886510Z",
     "shell.execute_reply": "2024-10-28T21:05:48.884866Z"
    },
    "papermill": {
     "duration": 0.040897,
     "end_time": "2024-10-28T21:05:48.890342",
     "exception": false,
     "start_time": "2024-10-28T21:05:48.849445",
     "status": "completed"
    },
    "tags": []
   },
   "outputs": [
    {
     "name": "stdout",
     "output_type": "stream",
     "text": [
      "(2608,)\n"
     ]
    }
   ],
   "source": [
    "# Convert Y data into numerical representation. Since it is True/False, it is easy\n",
    "y_train_true = y_train.astype(int)\n",
    "y_test_true = y_test.astype(int)\n",
    "print(y_test_true.shape)"
   ]
  },
  {
   "cell_type": "code",
   "execution_count": 14,
   "id": "73622211",
   "metadata": {
    "execution": {
     "iopub.execute_input": "2024-10-28T21:05:48.946694Z",
     "iopub.status.busy": "2024-10-28T21:05:48.946147Z",
     "iopub.status.idle": "2024-10-28T21:05:48.960881Z",
     "shell.execute_reply": "2024-10-28T21:05:48.959404Z"
    },
    "papermill": {
     "duration": 0.046416,
     "end_time": "2024-10-28T21:05:48.964154",
     "exception": false,
     "start_time": "2024-10-28T21:05:48.917738",
     "status": "completed"
    },
    "tags": []
   },
   "outputs": [
    {
     "name": "stdout",
     "output_type": "stream",
     "text": [
      "(5405, 18) (6085, 18)\n",
      "(97290,) (6085, 18)\n"
     ]
    }
   ],
   "source": [
    "from sklearn.ensemble import IsolationForest\n",
    "\n",
    "# Initialize the IsolationForest model\n",
    "z_scores = np.abs(X_train_scaled)\n",
    "mask = np.where(X_train_scaled[(z_scores < 100).all(axis=1)])[0]\n",
    "print(X_train_scaled[(z_scores < 100).all(axis=1)].shape, X_train_scaled.shape)\n",
    "print(mask.shape, X_train_scaled.shape)\n",
    "#X_clean = X[(z_scores < 3).all(axis=1)]\n"
   ]
  },
  {
   "cell_type": "markdown",
   "id": "ff220ee4",
   "metadata": {
    "papermill": {
     "duration": 0.028672,
     "end_time": "2024-10-28T21:05:49.021246",
     "exception": false,
     "start_time": "2024-10-28T21:05:48.992574",
     "status": "completed"
    },
    "tags": []
   },
   "source": [
    "# Build ML algorithm\n"
   ]
  },
  {
   "cell_type": "code",
   "execution_count": 15,
   "id": "5492d8c3",
   "metadata": {
    "execution": {
     "iopub.execute_input": "2024-10-28T21:05:49.079679Z",
     "iopub.status.busy": "2024-10-28T21:05:49.079048Z",
     "iopub.status.idle": "2024-10-28T21:05:49.089135Z",
     "shell.execute_reply": "2024-10-28T21:05:49.087499Z"
    },
    "papermill": {
     "duration": 0.042465,
     "end_time": "2024-10-28T21:05:49.092185",
     "exception": false,
     "start_time": "2024-10-28T21:05:49.049720",
     "status": "completed"
    },
    "tags": []
   },
   "outputs": [],
   "source": [
    "def compute_metrics(y_true, y_pred, mode='binary', y_prob=None):\n",
    "    precision = precision_score(y_true, y_pred, average=mode)\n",
    "    recall = recall_score(y_true, y_pred, average=mode)\n",
    "    f1 = f1_score(y_true, y_pred, average=mode)\n",
    "    accuracy = accuracy_score(y_true, y_pred)\n",
    "    if y_prob is None:\n",
    "        roc_auc = roc_auc_score(y_true, y_pred)\n",
    "    else: \n",
    "        roc_auc = roc_auc_score(y_true, y_prob)\n",
    "    \n",
    "    return [precision, recall, f1, accuracy, roc_auc]\n"
   ]
  },
  {
   "cell_type": "markdown",
   "id": "d4ac09a2",
   "metadata": {
    "papermill": {
     "duration": 0.027784,
     "end_time": "2024-10-28T21:05:49.147057",
     "exception": false,
     "start_time": "2024-10-28T21:05:49.119273",
     "status": "completed"
    },
    "tags": []
   },
   "source": [
    "## 1. SVC and LinearSVC"
   ]
  },
  {
   "cell_type": "code",
   "execution_count": 16,
   "id": "3e51db5d",
   "metadata": {
    "execution": {
     "iopub.execute_input": "2024-10-28T21:05:49.206175Z",
     "iopub.status.busy": "2024-10-28T21:05:49.204492Z",
     "iopub.status.idle": "2024-10-28T21:06:26.814393Z",
     "shell.execute_reply": "2024-10-28T21:06:26.803646Z"
    },
    "papermill": {
     "duration": 37.670869,
     "end_time": "2024-10-28T21:06:26.845193",
     "exception": false,
     "start_time": "2024-10-28T21:05:49.174324",
     "status": "completed"
    },
    "tags": []
   },
   "outputs": [
    {
     "name": "stdout",
     "output_type": "stream",
     "text": [
      "Done it.\n"
     ]
    }
   ],
   "source": [
    "def apply_imputation(X, strategy='mean'):\n",
    "    \"\"\"It applies imputation to handle NaN in SVC models.\n",
    "    \n",
    "    It returns 'imp' object to transform data like: imp.transform(X)\"\"\"\n",
    "    \n",
    "    imp = SimpleImputer(missing_values=np.nan, strategy=strategy)\n",
    "    imp = imp.fit(X)\n",
    "    x_imp = imp.transform(X)\n",
    "    return x_imp\n",
    "\n",
    "def apply_svc_lsvc(x_train, x_test, y_train, \n",
    "              kernel='rbf', C=1.0):\n",
    "    \n",
    "    x_train_imp = apply_imputation(x_train)\n",
    "    x_test_imp = apply_imputation(x_test)\n",
    "    \n",
    "    clf_svc = SVC(kernel=kernel, C=C, max_iter=100000)\n",
    "    clf_svc.fit(x_train_imp, np.array(y_train))\n",
    "    clf_lsvc = LinearSVC(C=C, max_iter=100000)\n",
    "    clf_lsvc.fit(x_train_imp, np.array(y_train))\n",
    "    \n",
    "    # Make predictions\n",
    "    y_pred_svc = clf_svc.predict(x_test_imp)\n",
    "    y_pred_lsvc = clf_lsvc.predict(x_test_imp)\n",
    "\n",
    "    return y_pred_svc, y_pred_lsvc, clf_svc, clf_lsvc\n",
    "\n",
    "metrics_svc_methods = []\n",
    "metrics_lsvc_methods = []\n",
    "models_svc = []\n",
    "models_lsvc = []\n",
    "cvals = [0.1, 0.6, 1.0,10.0]\n",
    "for c in cvals:\n",
    "    y_pred_svc, y_pred_lsvc,clf_svc, clf_lsvc = apply_svc_lsvc(X_train_scaled, X_test_scaled, \n",
    "                                             y_train_true, C=c)\n",
    "    # Compute metrics\n",
    "    # SVC\n",
    "    metrics_svc = compute_metrics(y_test_true, y_pred_svc)\n",
    "    # LinearSVC\n",
    "    metrics_lsvc = compute_metrics(y_test_true, y_pred_lsvc)\n",
    "    metrics_svc_methods.append(metrics_svc)\n",
    "    metrics_lsvc_methods.append(metrics_lsvc)\n",
    "    models_svc.append(clf_svc)\n",
    "    models_lsvc.append(clf_lsvc)\n",
    "    \n",
    "print(\"Done it.\")"
   ]
  },
  {
   "cell_type": "code",
   "execution_count": 17,
   "id": "7c88d083",
   "metadata": {
    "execution": {
     "iopub.execute_input": "2024-10-28T21:06:26.912891Z",
     "iopub.status.busy": "2024-10-28T21:06:26.912359Z",
     "iopub.status.idle": "2024-10-28T21:06:26.923129Z",
     "shell.execute_reply": "2024-10-28T21:06:26.921311Z"
    },
    "papermill": {
     "duration": 0.044906,
     "end_time": "2024-10-28T21:06:26.926407",
     "exception": false,
     "start_time": "2024-10-28T21:06:26.881501",
     "status": "completed"
    },
    "tags": []
   },
   "outputs": [
    {
     "name": "stdout",
     "output_type": "stream",
     "text": [
      "1.0\n",
      "0.6\n"
     ]
    }
   ],
   "source": [
    "#print(metrics_svc_methods[:][3])\n",
    "accuracy_idx = 3\n",
    "best_svc_model_idx = np.argmax(metrics_svc_methods, axis=0)[accuracy_idx]\n",
    "best_svc_model = models_svc[best_svc_model_idx]\n",
    "metrics_svc = metrics_svc_methods[best_svc_model_idx]\n",
    "print(cvals[best_svc_model_idx])\n",
    "\n",
    "best_lsvc_model_idx = np.argmax(metrics_lsvc_methods, axis=0)[accuracy_idx]\n",
    "best_lsvc_model = models_lsvc[best_lsvc_model_idx]\n",
    "metrics_lsvc = metrics_lsvc_methods[best_lsvc_model_idx]\n",
    "print(cvals[best_lsvc_model_idx])"
   ]
  },
  {
   "cell_type": "code",
   "execution_count": 18,
   "id": "a7b2bcfc",
   "metadata": {
    "execution": {
     "iopub.execute_input": "2024-10-28T21:06:26.984260Z",
     "iopub.status.busy": "2024-10-28T21:06:26.983654Z",
     "iopub.status.idle": "2024-10-28T21:06:30.048705Z",
     "shell.execute_reply": "2024-10-28T21:06:30.046736Z"
    },
    "papermill": {
     "duration": 3.097446,
     "end_time": "2024-10-28T21:06:30.051948",
     "exception": false,
     "start_time": "2024-10-28T21:06:26.954502",
     "status": "completed"
    },
    "tags": []
   },
   "outputs": [
    {
     "name": "stdout",
     "output_type": "stream",
     "text": [
      "(2608,) (2608,)\n"
     ]
    },
    {
     "data": {
      "image/png": "[encoded data removed]",
      "text/plain": [
       "<Figure size 1400x800 with 6 Axes>"
      ]
     },
     "metadata": {},
     "output_type": "display_data"
    }
   ],
   "source": [
    "#X = X_reduced#np.nan_to_num(X_train_svc_scaled, nan=-1.0)\n",
    "clf_svc = best_svc_model\n",
    "clf_lsvc = best_lsvc_model\n",
    "classif_svc = clf_svc.decision_function(apply_imputation(X_test_scaled))\n",
    "classif_lsvc = clf_lsvc.decision_function(apply_imputation(X_test_scaled))\n",
    "\n",
    "fig, ax = plt.subplots(nrows=2, ncols=2, figsize=(14,8))\n",
    "fig.suptitle(\"Prec-Recall curve and Confusion matrix (SVC/LinearSVC)\", size = 22)\n",
    "_ = PrecisionRecallDisplay.from_predictions(\n",
    "    y_test_true, classif_svc, name=\"SVC\", ax=ax[0,0])\n",
    "_ = PrecisionRecallDisplay.from_predictions(\n",
    "    y_test_true, classif_lsvc, name=\"LinearSVC\", ax=ax[0,0])\n",
    "\n",
    "_ = RocCurveDisplay.from_predictions(y_test_true, classif_svc, \n",
    "                                     name = \"SVC\", ax=ax[0,1])\n",
    "_ = RocCurveDisplay.from_predictions(y_test_true, classif_lsvc,  \n",
    "                                     name = \"LinearSVC\", ax=ax[0,1])\n",
    "print(y_test_true.shape, y_pred_svc.shape)\n",
    "_ = ConfusionMatrixDisplay.from_predictions(y_test_true, y_pred_svc, ax=ax[1,0])\n",
    "_ = ConfusionMatrixDisplay.from_predictions(y_test_true, y_pred_lsvc, ax=ax[1,1])\n",
    "\n",
    "#####\n",
    "### From estimator\n",
    "_ = PrecisionRecallDisplay.from_estimator(\n",
    "    clf_svc, apply_imputation(X_test_scaled), y_test_true, \n",
    "    name=\"estSVC\", ax=ax[0,0])\n",
    "_ = PrecisionRecallDisplay.from_estimator(\n",
    "    clf_lsvc, apply_imputation(X_test_scaled), y_test_true, \n",
    "    name=\"estLinearSVC\", ax=ax[0,0])\n",
    "\n",
    "_ = RocCurveDisplay.from_estimator(clf_svc, apply_imputation(X_test_scaled), y_test_true, \n",
    "                                     name = \"estSVC\", ax=ax[0,1])\n",
    "_ = RocCurveDisplay.from_estimator(clf_lsvc, apply_imputation(X_test_scaled), y_test_true,  \n",
    "                                     name = \"estLinearSVC\", ax=ax[0,1])"
   ]
  },
  {
   "cell_type": "code",
   "execution_count": 19,
   "id": "8c0488e0",
   "metadata": {
    "execution": {
     "iopub.execute_input": "2024-10-28T21:06:30.113288Z",
     "iopub.status.busy": "2024-10-28T21:06:30.112688Z",
     "iopub.status.idle": "2024-10-28T21:06:30.133003Z",
     "shell.execute_reply": "2024-10-28T21:06:30.130805Z"
    },
    "papermill": {
     "duration": 0.055604,
     "end_time": "2024-10-28T21:06:30.136774",
     "exception": false,
     "start_time": "2024-10-28T21:06:30.081170",
     "status": "completed"
    },
    "tags": []
   },
   "outputs": [
    {
     "data": {
      "text/html": [
       "<div>\n",
       "<style scoped>\n",
       "    .dataframe tbody tr th:only-of-type {\n",
       "        vertical-align: middle;\n",
       "    }\n",
       "\n",
       "    .dataframe tbody tr th {\n",
       "        vertical-align: top;\n",
       "    }\n",
       "\n",
       "    .dataframe thead th {\n",
       "        text-align: right;\n",
       "    }\n",
       "</style>\n",
       "<table border=\"1\" class=\"dataframe\">\n",
       "  <thead>\n",
       "    <tr style=\"text-align: right;\">\n",
       "      <th></th>\n",
       "      <th>Metric</th>\n",
       "      <th>SVC</th>\n",
       "      <th>LinearSVC</th>\n",
       "    </tr>\n",
       "  </thead>\n",
       "  <tbody>\n",
       "    <tr>\n",
       "      <th>0</th>\n",
       "      <td>Precision</td>\n",
       "      <td>0.775256</td>\n",
       "      <td>0.768786</td>\n",
       "    </tr>\n",
       "    <tr>\n",
       "      <th>1</th>\n",
       "      <td>Recall</td>\n",
       "      <td>0.802881</td>\n",
       "      <td>0.806672</td>\n",
       "    </tr>\n",
       "    <tr>\n",
       "      <th>2</th>\n",
       "      <td>F1 Score</td>\n",
       "      <td>0.788827</td>\n",
       "      <td>0.787273</td>\n",
       "    </tr>\n",
       "    <tr>\n",
       "      <th>3</th>\n",
       "      <td>Accuracy</td>\n",
       "      <td>0.782592</td>\n",
       "      <td>0.779525</td>\n",
       "    </tr>\n",
       "    <tr>\n",
       "      <th>4</th>\n",
       "      <td>ROC AUC</td>\n",
       "      <td>0.782356</td>\n",
       "      <td>0.779209</td>\n",
       "    </tr>\n",
       "  </tbody>\n",
       "</table>\n",
       "</div>"
      ],
      "text/plain": [
       "      Metric       SVC  LinearSVC\n",
       "0  Precision  0.775256   0.768786\n",
       "1     Recall  0.802881   0.806672\n",
       "2   F1 Score  0.788827   0.787273\n",
       "3   Accuracy  0.782592   0.779525\n",
       "4    ROC AUC  0.782356   0.779209"
      ]
     },
     "metadata": {},
     "output_type": "display_data"
    }
   ],
   "source": [
    "# Create a DataFrame\n",
    "metrics_data = {\n",
    "    \"Metric\": [\"Precision\", \"Recall\", \"F1 Score\", \"Accuracy\", \"ROC AUC\"],\n",
    "    \"SVC\": metrics_svc,\n",
    "    \"LinearSVC\": metrics_lsvc\n",
    "}\n",
    "\n",
    "metrics_df = pd.DataFrame(metrics_data)\n",
    "models_df = pd.DataFrame({\"SVC\": [best_svc_model], \"LSVC\": [best_lsvc_model] })\n",
    "# Display the table\n",
    "display(metrics_df)"
   ]
  },
  {
   "cell_type": "markdown",
   "id": "6c65196e",
   "metadata": {
    "papermill": {
     "duration": 0.029782,
     "end_time": "2024-10-28T21:06:30.197546",
     "exception": false,
     "start_time": "2024-10-28T21:06:30.167764",
     "status": "completed"
    },
    "tags": []
   },
   "source": [
    "==============================================================================="
   ]
  },
  {
   "cell_type": "markdown",
   "id": "3f727341",
   "metadata": {
    "papermill": {
     "duration": 0.030298,
     "end_time": "2024-10-28T21:06:30.257667",
     "exception": false,
     "start_time": "2024-10-28T21:06:30.227369",
     "status": "completed"
    },
    "tags": []
   },
   "source": [
    "## 2. K-Nearest Neighbors"
   ]
  },
  {
   "cell_type": "code",
   "execution_count": 20,
   "id": "35f251a7",
   "metadata": {
    "execution": {
     "iopub.execute_input": "2024-10-28T21:06:30.323272Z",
     "iopub.status.busy": "2024-10-28T21:06:30.322675Z",
     "iopub.status.idle": "2024-10-28T21:06:36.222215Z",
     "shell.execute_reply": "2024-10-28T21:06:36.220237Z"
    },
    "papermill": {
     "duration": 5.935974,
     "end_time": "2024-10-28T21:06:36.225794",
     "exception": false,
     "start_time": "2024-10-28T21:06:30.289820",
     "status": "completed"
    },
    "tags": []
   },
   "outputs": [
    {
     "name": "stdout",
     "output_type": "stream",
     "text": [
      "Done it.\n"
     ]
    }
   ],
   "source": [
    "def apply_imputer_knn(X):\n",
    "    from sklearn.impute import KNNImputer\n",
    "    # define imputer\n",
    "    imputer = KNNImputer(n_neighbors=5, weights='uniform', metric='nan_euclidean')\n",
    "    # fit on the dataset\n",
    "    imputer.fit(X)\n",
    "    # transform the dataset\n",
    "    x_imp = imputer.transform(X)\n",
    "    return x_imp\n",
    "\n",
    "def apply_knn(x_train, y_train, x_test, k_neighbors=1):\n",
    "    # Initialize model\n",
    "    clf_knn = KNeighborsClassifier(n_neighbors=k_neighbors)\n",
    "    \n",
    "    # Fit model\n",
    "    clf_knn.fit(x_train, y_train)\n",
    "    \n",
    "    # Predict\n",
    "    y_pred = clf_knn.predict(x_test)\n",
    "    \n",
    "    return y_pred, clf_knn\n",
    "\n",
    "kvals = [1,3,7, 9, 11, 15]\n",
    "metrics_knn_methods = []\n",
    "models_knn = []\n",
    "for ine in kvals:\n",
    "    # apply Imputer to x_train, x_test\n",
    "    x_train_imp = apply_imputer_knn(X_train_scaled)\n",
    "    x_test_imp = apply_imputer_knn(X_test_scaled)\n",
    "    \n",
    "    y_pred, clf_knn = apply_knn(x_train_imp, y_train_true, \n",
    "                                x_test_imp, k_neighbors=ine)\n",
    "    # Compute performance metrics\n",
    "    # For ROC AUC, we need the predicted probabilities\n",
    "    y_prob = clf_knn.predict_proba(x_test_imp)[:, 1]  # Probability of class 1\n",
    "    \n",
    "    #roc_auc = roc_auc_score(y_test_true, y_prob)\n",
    "    imetrics_knn = compute_metrics(y_test_true, y_pred, y_prob=y_prob)\n",
    "    metrics_knn_methods.append(imetrics_knn)\n",
    "    models_knn.append(clf_knn)\n",
    "\n",
    "print(\"Done it.\")"
   ]
  },
  {
   "cell_type": "code",
   "execution_count": 21,
   "id": "39edbbf2",
   "metadata": {
    "execution": {
     "iopub.execute_input": "2024-10-28T21:06:36.288981Z",
     "iopub.status.busy": "2024-10-28T21:06:36.288389Z",
     "iopub.status.idle": "2024-10-28T21:06:36.301555Z",
     "shell.execute_reply": "2024-10-28T21:06:36.299915Z"
    },
    "papermill": {
     "duration": 0.048532,
     "end_time": "2024-10-28T21:06:36.304826",
     "exception": false,
     "start_time": "2024-10-28T21:06:36.256294",
     "status": "completed"
    },
    "tags": []
   },
   "outputs": [
    {
     "name": "stdout",
     "output_type": "stream",
     "text": [
      "11\n"
     ]
    }
   ],
   "source": [
    "best_knn_model_idx = np.argmax(metrics_knn_methods,axis=0)[accuracy_idx]\n",
    "best_knn_model = models_knn[best_knn_model_idx]\n",
    "metrics_knn = metrics_knn_methods[best_knn_model_idx]\n",
    "print(kvals[best_knn_model_idx])\n",
    "# Add data to metrics_data\n",
    "metrics_df[\"KNN\"] =  metrics_knn\n",
    "models_df[\"KNN\"] = best_knn_model "
   ]
  },
  {
   "cell_type": "code",
   "execution_count": 22,
   "id": "a4e4a22d",
   "metadata": {
    "execution": {
     "iopub.execute_input": "2024-10-28T21:06:36.367833Z",
     "iopub.status.busy": "2024-10-28T21:06:36.367257Z",
     "iopub.status.idle": "2024-10-28T21:06:36.382893Z",
     "shell.execute_reply": "2024-10-28T21:06:36.381167Z"
    },
    "papermill": {
     "duration": 0.050997,
     "end_time": "2024-10-28T21:06:36.386286",
     "exception": false,
     "start_time": "2024-10-28T21:06:36.335289",
     "status": "completed"
    },
    "tags": []
   },
   "outputs": [
    {
     "data": {
      "text/html": [
       "<div>\n",
       "<style scoped>\n",
       "    .dataframe tbody tr th:only-of-type {\n",
       "        vertical-align: middle;\n",
       "    }\n",
       "\n",
       "    .dataframe tbody tr th {\n",
       "        vertical-align: top;\n",
       "    }\n",
       "\n",
       "    .dataframe thead th {\n",
       "        text-align: right;\n",
       "    }\n",
       "</style>\n",
       "<table border=\"1\" class=\"dataframe\">\n",
       "  <thead>\n",
       "    <tr style=\"text-align: right;\">\n",
       "      <th></th>\n",
       "      <th>Metric</th>\n",
       "      <th>SVC</th>\n",
       "      <th>LinearSVC</th>\n",
       "      <th>KNN</th>\n",
       "    </tr>\n",
       "  </thead>\n",
       "  <tbody>\n",
       "    <tr>\n",
       "      <th>0</th>\n",
       "      <td>Precision</td>\n",
       "      <td>0.775256</td>\n",
       "      <td>0.768786</td>\n",
       "      <td>0.802839</td>\n",
       "    </tr>\n",
       "    <tr>\n",
       "      <th>1</th>\n",
       "      <td>Recall</td>\n",
       "      <td>0.802881</td>\n",
       "      <td>0.806672</td>\n",
       "      <td>0.771797</td>\n",
       "    </tr>\n",
       "    <tr>\n",
       "      <th>2</th>\n",
       "      <td>F1 Score</td>\n",
       "      <td>0.788827</td>\n",
       "      <td>0.787273</td>\n",
       "      <td>0.787012</td>\n",
       "    </tr>\n",
       "    <tr>\n",
       "      <th>3</th>\n",
       "      <td>Accuracy</td>\n",
       "      <td>0.782592</td>\n",
       "      <td>0.779525</td>\n",
       "      <td>0.788727</td>\n",
       "    </tr>\n",
       "    <tr>\n",
       "      <th>4</th>\n",
       "      <td>ROC AUC</td>\n",
       "      <td>0.782356</td>\n",
       "      <td>0.779209</td>\n",
       "      <td>0.871501</td>\n",
       "    </tr>\n",
       "  </tbody>\n",
       "</table>\n",
       "</div>"
      ],
      "text/plain": [
       "      Metric       SVC  LinearSVC       KNN\n",
       "0  Precision  0.775256   0.768786  0.802839\n",
       "1     Recall  0.802881   0.806672  0.771797\n",
       "2   F1 Score  0.788827   0.787273  0.787012\n",
       "3   Accuracy  0.782592   0.779525  0.788727\n",
       "4    ROC AUC  0.782356   0.779209  0.871501"
      ]
     },
     "metadata": {},
     "output_type": "display_data"
    }
   ],
   "source": [
    "display(metrics_df)"
   ]
  },
  {
   "cell_type": "markdown",
   "id": "cf370bf5",
   "metadata": {
    "papermill": {
     "duration": 0.030766,
     "end_time": "2024-10-28T21:06:36.447479",
     "exception": false,
     "start_time": "2024-10-28T21:06:36.416713",
     "status": "completed"
    },
    "tags": []
   },
   "source": [
    "We built two models: a) using KNN and b) using KNRadious. We will continue with KNN because it showed better performance with `n_neighbors = 11`. To say that we use AUC parameter, accuracy and precision. "
   ]
  },
  {
   "cell_type": "markdown",
   "id": "06058553",
   "metadata": {
    "papermill": {
     "duration": 0.031243,
     "end_time": "2024-10-28T21:06:36.510546",
     "exception": false,
     "start_time": "2024-10-28T21:06:36.479303",
     "status": "completed"
    },
    "tags": []
   },
   "source": [
    "=============================================================================="
   ]
  },
  {
   "cell_type": "markdown",
   "id": "03591d44",
   "metadata": {
    "papermill": {
     "duration": 0.031095,
     "end_time": "2024-10-28T21:06:36.571803",
     "exception": false,
     "start_time": "2024-10-28T21:06:36.540708",
     "status": "completed"
    },
    "tags": []
   },
   "source": [
    "## 3. Random Forest "
   ]
  },
  {
   "cell_type": "code",
   "execution_count": 23,
   "id": "60c80481",
   "metadata": {
    "execution": {
     "iopub.execute_input": "2024-10-28T21:06:36.635962Z",
     "iopub.status.busy": "2024-10-28T21:06:36.635283Z",
     "iopub.status.idle": "2024-10-28T21:07:29.143855Z",
     "shell.execute_reply": "2024-10-28T21:07:29.141883Z"
    },
    "papermill": {
     "duration": 52.573089,
     "end_time": "2024-10-28T21:07:29.176009",
     "exception": false,
     "start_time": "2024-10-28T21:06:36.602920",
     "status": "completed"
    },
    "tags": []
   },
   "outputs": [
    {
     "name": "stdout",
     "output_type": "stream",
     "text": [
      "Done it.\n"
     ]
    }
   ],
   "source": [
    "def apply_impute_rf(X):\n",
    "    # Impute missing values using IterativeImputer\n",
    "    imputer = IterativeImputer()\n",
    "    X_imputed = imputer.fit_transform(X)\n",
    "    return X_imputed\n",
    "\n",
    "def apply_rf(x_train, y_true, x_test):\n",
    "    \n",
    "    # Initialization\n",
    "    clf_rf = RandomForestClassifier(n_estimators=iest, random_state=42)\n",
    "    \n",
    "    # Fit the model\n",
    "    clf_rf.fit(x_train, y_true)\n",
    "    # Step 3: predict\n",
    "    y_pred = clf_rf.predict(x_test)\n",
    "    # Step 4: predict probabilities for ROC AUC\n",
    "    y_prob = clf_rf.predict_proba(x_test)[:, 1]\n",
    "    \n",
    "    return y_pred, y_prob, clf_rf\n",
    "    \n",
    "estimators_list = [50,100,200,500] \n",
    "metrics_rf = []\n",
    "models_rf = []\n",
    "for i,iest in enumerate(estimators_list):\n",
    "    # Impute missing values\n",
    "    x_train_imp = apply_impute_rf(X_train_scaled)\n",
    "    x_test_imp = apply_impute_rf(X_test_scaled)\n",
    "\n",
    "    y_pred, y_prob, clf_rf = apply_rf(x_train_imp, y_train_true, \n",
    "                                     x_test_imp)\n",
    "    # Compute performance metrics\n",
    "    imetrics_rf = compute_metrics(y_test_true, y_pred, y_prob=y_prob)\n",
    "\n",
    "    metrics_rf.append(imetrics_rf)\n",
    "    models_rf.append(clf_rf)\n",
    "print(\"Done it.\")"
   ]
  },
  {
   "cell_type": "code",
   "execution_count": 24,
   "id": "ef9debd4",
   "metadata": {
    "execution": {
     "iopub.execute_input": "2024-10-28T21:07:29.239090Z",
     "iopub.status.busy": "2024-10-28T21:07:29.238545Z",
     "iopub.status.idle": "2024-10-28T21:07:29.255042Z",
     "shell.execute_reply": "2024-10-28T21:07:29.252898Z"
    },
    "papermill": {
     "duration": 0.052561,
     "end_time": "2024-10-28T21:07:29.258280",
     "exception": false,
     "start_time": "2024-10-28T21:07:29.205719",
     "status": "completed"
    },
    "tags": []
   },
   "outputs": [
    {
     "name": "stdout",
     "output_type": "stream",
     "text": [
      "3 [RandomForestClassifier(n_estimators=50, random_state=42), RandomForestClassifier(random_state=42), RandomForestClassifier(n_estimators=200, random_state=42), RandomForestClassifier(n_estimators=500, random_state=42)]\n",
      "500\n"
     ]
    }
   ],
   "source": [
    "best_rf_model_idx = np.argmax(metrics_rf,axis=0)[accuracy_idx]\n",
    "print(best_rf_model_idx, models_rf)\n",
    "best_rf_model = models_rf[best_rf_model_idx]\n",
    "metrics_rf_best = metrics_rf[best_rf_model_idx]\n",
    "print(estimators_list[best_rf_model_idx])\n",
    "# Add data to metrics_data\n",
    "metrics_df[\"RF\"] =  metrics_rf_best\n",
    "models_df[\"RF\"] = [best_rf_model]"
   ]
  },
  {
   "cell_type": "markdown",
   "id": "7b1f0716",
   "metadata": {
    "papermill": {
     "duration": 0.029529,
     "end_time": "2024-10-28T21:07:29.318570",
     "exception": false,
     "start_time": "2024-10-28T21:07:29.289041",
     "status": "completed"
    },
    "tags": []
   },
   "source": [
    "## 4. Gradient Boosting"
   ]
  },
  {
   "cell_type": "code",
   "execution_count": 25,
   "id": "f482e323",
   "metadata": {
    "execution": {
     "iopub.execute_input": "2024-10-28T21:07:29.380595Z",
     "iopub.status.busy": "2024-10-28T21:07:29.379988Z",
     "iopub.status.idle": "2024-10-28T21:08:20.938534Z",
     "shell.execute_reply": "2024-10-28T21:08:20.936508Z"
    },
    "papermill": {
     "duration": 51.623454,
     "end_time": "2024-10-28T21:08:20.971915",
     "exception": false,
     "start_time": "2024-10-28T21:07:29.348461",
     "status": "completed"
    },
    "tags": []
   },
   "outputs": [
    {
     "name": "stdout",
     "output_type": "stream",
     "text": [
      "Done HGBC\n",
      "Done GBC\n",
      "Done it.\n"
     ]
    }
   ],
   "source": [
    "def apply_hgbc(x_train, y_true, x_test, max_iter=100, \n",
    "               minleaf= 1, learning_rate=1.0, mdepth=2):\n",
    "    clf_hgbc = HistGradientBoostingClassifier(min_samples_leaf=minleaf,\n",
    "                                      max_depth=mdepth,\n",
    "                                      learning_rate=learning_rate,\n",
    "                                      max_iter=max_iter)\n",
    "    clf_hgbc.fit(x_train, y_true)  \n",
    "    # Prediction\n",
    "    y_pred = clf_hgbc.predict(x_test)\n",
    "    \n",
    "    return y_pred, clf_hgbc\n",
    "\n",
    "def apply_gbc(x_train, y_train, x_test, n_estimators=100,\n",
    "             learning_rate=1.0, max_depth=1, random_state=0):\n",
    "    clf_gbc = GradientBoostingClassifier(n_estimators=n_estimators, learning_rate=learning_rate,\n",
    "                                        max_depth=max_depth, random_state=rndm_state)\n",
    "    clf_gbc.fit(x_train, y_train)\n",
    "    # Prediction\n",
    "    y_pred = clf_gbc.predict(x_test)\n",
    "    return y_pred, clf_gbc\n",
    "\n",
    "x_train_impute = apply_impute_rf(X_train_scaled)\n",
    "x_test_impute = apply_impute_rf(X_test_scaled)\n",
    "\n",
    "max_iters = [4, 200]\n",
    "mineafs = [1,4]\n",
    "lrs = [0.3,1.0]\n",
    "maxdepts = [2,10]\n",
    "metrics_hgbc = []\n",
    "models_hgbc = []\n",
    "# HistGradientBoostingClassifier\n",
    "for imax in max_iters:\n",
    "    for imean in mineafs:\n",
    "        for ilr in lrs:\n",
    "            for imaxd in maxdepts:\n",
    "                #print(f'max_iters {imax} - minleaf {imean} - lr {ilr} - max_depth {imaxd}')\n",
    "                y_pred, clf_hgbc = apply_hgbc(x_train_impute, y_train_true, x_test_impute, \n",
    "                       max_iter=imax, minleaf=imean, learning_rate=ilr, mdepth=imaxd)\n",
    "                metrics_hgbc.append(compute_metrics(y_test_true, y_pred))\n",
    "                models_hgbc.append(clf_hgbc)\n",
    "print(\"Done HGBC\")\n",
    "# GradientBoostingClassifier\n",
    "k_estimators=[20,100,150]\n",
    "rndm_state=0\n",
    "metrics_gbc = []\n",
    "models_gbc = []\n",
    "for iest in k_estimators:\n",
    "    for ilr in lrs:\n",
    "        for imaxd in maxdepts:\n",
    "            #print(f'estimator {iest} - lr {ilr} - max_depth {imaxd}')\n",
    "            y_pred, clf_gbc = apply_gbc(x_train_impute, y_train_true, x_test_impute, \n",
    "                   n_estimators=iest, learning_rate=ilr,\n",
    "                    max_depth=imaxd, random_state=rndm_state)\n",
    "            metrics_gbc.append(compute_metrics(y_test_true, y_pred))\n",
    "            models_gbc.append(clf_gbc)\n",
    "print(\"Done GBC\")\n",
    "print(\"Done it.\")"
   ]
  },
  {
   "cell_type": "code",
   "execution_count": 26,
   "id": "689f8d68",
   "metadata": {
    "execution": {
     "iopub.execute_input": "2024-10-28T21:08:21.034970Z",
     "iopub.status.busy": "2024-10-28T21:08:21.034434Z",
     "iopub.status.idle": "2024-10-28T21:08:21.047738Z",
     "shell.execute_reply": "2024-10-28T21:08:21.046175Z"
    },
    "papermill": {
     "duration": 0.049371,
     "end_time": "2024-10-28T21:08:21.051693",
     "exception": false,
     "start_time": "2024-10-28T21:08:21.002322",
     "status": "completed"
    },
    "tags": []
   },
   "outputs": [],
   "source": [
    "#HGBC\n",
    "best_hgbc_model_idx = np.argmax(metrics_hgbc,axis=0)[accuracy_idx]\n",
    "best_hgbc_model = models_hgbc[best_hgbc_model_idx]\n",
    "metrics_hgbc_best = metrics_hgbc[best_hgbc_model_idx]\n",
    "metrics_df[\"HGBC\"] =  metrics_hgbc_best\n",
    "models_df[\"HGBC\"] = [best_hgbc_model]\n",
    "# GBC\n",
    "best_gbc_model_idx = np.argmax(metrics_gbc,axis=0)[accuracy_idx]\n",
    "best_gbc_model = models_gbc[best_gbc_model_idx]\n",
    "metrics_gbc_best = metrics_gbc[best_gbc_model_idx]\n",
    "metrics_df[\"GBC\"] =  metrics_gbc_best\n",
    "models_df[\"GBC\"] = [best_gbc_model]"
   ]
  },
  {
   "cell_type": "markdown",
   "id": "e6121f95",
   "metadata": {
    "papermill": {
     "duration": 0.034826,
     "end_time": "2024-10-28T21:08:21.118865",
     "exception": false,
     "start_time": "2024-10-28T21:08:21.084039",
     "status": "completed"
    },
    "tags": []
   },
   "source": [
    "# Results"
   ]
  },
  {
   "cell_type": "code",
   "execution_count": 27,
   "id": "ba05d913",
   "metadata": {
    "execution": {
     "iopub.execute_input": "2024-10-28T21:08:21.185340Z",
     "iopub.status.busy": "2024-10-28T21:08:21.184723Z",
     "iopub.status.idle": "2024-10-28T21:08:21.397500Z",
     "shell.execute_reply": "2024-10-28T21:08:21.395688Z"
    },
    "papermill": {
     "duration": 0.251042,
     "end_time": "2024-10-28T21:08:21.401522",
     "exception": false,
     "start_time": "2024-10-28T21:08:21.150480",
     "status": "completed"
    },
    "tags": []
   },
   "outputs": [
    {
     "data": {
      "text/html": [
       "<div>\n",
       "<style scoped>\n",
       "    .dataframe tbody tr th:only-of-type {\n",
       "        vertical-align: middle;\n",
       "    }\n",
       "\n",
       "    .dataframe tbody tr th {\n",
       "        vertical-align: top;\n",
       "    }\n",
       "\n",
       "    .dataframe thead th {\n",
       "        text-align: right;\n",
       "    }\n",
       "</style>\n",
       "<table border=\"1\" class=\"dataframe\">\n",
       "  <thead>\n",
       "    <tr style=\"text-align: right;\">\n",
       "      <th></th>\n",
       "      <th>Metric</th>\n",
       "      <th>SVC</th>\n",
       "      <th>LinearSVC</th>\n",
       "      <th>KNN</th>\n",
       "      <th>RF</th>\n",
       "      <th>HGBC</th>\n",
       "      <th>GBC</th>\n",
       "    </tr>\n",
       "  </thead>\n",
       "  <tbody>\n",
       "    <tr>\n",
       "      <th>0</th>\n",
       "      <td>Precision</td>\n",
       "      <td>0.775256</td>\n",
       "      <td>0.768786</td>\n",
       "      <td>0.802839</td>\n",
       "      <td>0.817600</td>\n",
       "      <td>0.810683</td>\n",
       "      <td>0.841927</td>\n",
       "    </tr>\n",
       "    <tr>\n",
       "      <th>1</th>\n",
       "      <td>Recall</td>\n",
       "      <td>0.802881</td>\n",
       "      <td>0.806672</td>\n",
       "      <td>0.771797</td>\n",
       "      <td>0.774829</td>\n",
       "      <td>0.782411</td>\n",
       "      <td>0.755118</td>\n",
       "    </tr>\n",
       "    <tr>\n",
       "      <th>2</th>\n",
       "      <td>F1 Score</td>\n",
       "      <td>0.788827</td>\n",
       "      <td>0.787273</td>\n",
       "      <td>0.787012</td>\n",
       "      <td>0.795640</td>\n",
       "      <td>0.796296</td>\n",
       "      <td>0.796163</td>\n",
       "    </tr>\n",
       "    <tr>\n",
       "      <th>3</th>\n",
       "      <td>Accuracy</td>\n",
       "      <td>0.782592</td>\n",
       "      <td>0.779525</td>\n",
       "      <td>0.788727</td>\n",
       "      <td>0.798696</td>\n",
       "      <td>0.797546</td>\n",
       "      <td>0.804448</td>\n",
       "    </tr>\n",
       "    <tr>\n",
       "      <th>4</th>\n",
       "      <td>ROC AUC</td>\n",
       "      <td>0.782356</td>\n",
       "      <td>0.779209</td>\n",
       "      <td>0.871501</td>\n",
       "      <td>0.888618</td>\n",
       "      <td>0.797722</td>\n",
       "      <td>0.805022</td>\n",
       "    </tr>\n",
       "  </tbody>\n",
       "</table>\n",
       "</div>"
      ],
      "text/plain": [
       "      Metric       SVC  LinearSVC       KNN        RF      HGBC       GBC\n",
       "0  Precision  0.775256   0.768786  0.802839  0.817600  0.810683  0.841927\n",
       "1     Recall  0.802881   0.806672  0.771797  0.774829  0.782411  0.755118\n",
       "2   F1 Score  0.788827   0.787273  0.787012  0.795640  0.796296  0.796163\n",
       "3   Accuracy  0.782592   0.779525  0.788727  0.798696  0.797546  0.804448\n",
       "4    ROC AUC  0.782356   0.779209  0.871501  0.888618  0.797722  0.805022"
      ]
     },
     "metadata": {},
     "output_type": "display_data"
    },
    {
     "data": {
      "text/html": [
       "<div>\n",
       "<style scoped>\n",
       "    .dataframe tbody tr th:only-of-type {\n",
       "        vertical-align: middle;\n",
       "    }\n",
       "\n",
       "    .dataframe tbody tr th {\n",
       "        vertical-align: top;\n",
       "    }\n",
       "\n",
       "    .dataframe thead th {\n",
       "        text-align: right;\n",
       "    }\n",
       "</style>\n",
       "<table border=\"1\" class=\"dataframe\">\n",
       "  <thead>\n",
       "    <tr style=\"text-align: right;\">\n",
       "      <th></th>\n",
       "      <th>SVC</th>\n",
       "      <th>LSVC</th>\n",
       "      <th>KNN</th>\n",
       "      <th>RF</th>\n",
       "      <th>HGBC</th>\n",
       "      <th>GBC</th>\n",
       "    </tr>\n",
       "  </thead>\n",
       "  <tbody>\n",
       "    <tr>\n",
       "      <th>0</th>\n",
       "      <td>SVC(max_iter=100000)</td>\n",
       "      <td>LinearSVC(C=0.6, max_iter=100000)</td>\n",
       "      <td>KNeighborsClassifier(n_neighbors=11)</td>\n",
       "      <td>(DecisionTreeClassifier(max_features='sqrt', r...</td>\n",
       "      <td>HistGradientBoostingClassifier(learning_rate=0...</td>\n",
       "      <td>([DecisionTreeRegressor(criterion='friedman_ms...</td>\n",
       "    </tr>\n",
       "  </tbody>\n",
       "</table>\n",
       "</div>"
      ],
      "text/plain": [
       "                    SVC                               LSVC  \\\n",
       "0  SVC(max_iter=100000)  LinearSVC(C=0.6, max_iter=100000)   \n",
       "\n",
       "                                    KNN  \\\n",
       "0  KNeighborsClassifier(n_neighbors=11)   \n",
       "\n",
       "                                                  RF  \\\n",
       "0  (DecisionTreeClassifier(max_features='sqrt', r...   \n",
       "\n",
       "                                                HGBC  \\\n",
       "0  HistGradientBoostingClassifier(learning_rate=0...   \n",
       "\n",
       "                                                 GBC  \n",
       "0  ([DecisionTreeRegressor(criterion='friedman_ms...  "
      ]
     },
     "metadata": {},
     "output_type": "display_data"
    }
   ],
   "source": [
    "display(pd.DataFrame(metrics_df))\n",
    "display(models_df)"
   ]
  },
  {
   "cell_type": "markdown",
   "id": "eb43cebd",
   "metadata": {
    "papermill": {
     "duration": 0.030554,
     "end_time": "2024-10-28T21:08:21.463310",
     "exception": false,
     "start_time": "2024-10-28T21:08:21.432756",
     "status": "completed"
    },
    "tags": []
   },
   "source": [
    "# KFold with best models"
   ]
  },
  {
   "cell_type": "code",
   "execution_count": 28,
   "id": "0c780fbb",
   "metadata": {
    "execution": {
     "iopub.execute_input": "2024-10-28T21:08:21.527516Z",
     "iopub.status.busy": "2024-10-28T21:08:21.526898Z",
     "iopub.status.idle": "2024-10-28T21:08:21.539553Z",
     "shell.execute_reply": "2024-10-28T21:08:21.537135Z"
    },
    "papermill": {
     "duration": 0.04927,
     "end_time": "2024-10-28T21:08:21.543169",
     "exception": false,
     "start_time": "2024-10-28T21:08:21.493899",
     "status": "completed"
    },
    "tags": []
   },
   "outputs": [
    {
     "name": "stdout",
     "output_type": "stream",
     "text": [
      "<class 'numpy.ndarray'>\n",
      "<class 'numpy.ndarray'>\n",
      "<class 'pandas.core.series.Series'>\n",
      "<class 'pandas.core.series.Series'>\n",
      "(6085, 18) (2608, 18) (8693, 18)\n"
     ]
    }
   ],
   "source": [
    "ll = [X_train_scaled, X_test_scaled, y_train_true, y_test_true]\n",
    "for il in ll:\n",
    "    print(type(il))\n",
    "# Concatenate X_array\n",
    "X_array = np.concatenate((X_train_scaled, X_test_scaled))\n",
    "print(X_train_scaled.shape, X_test_scaled.shape, \n",
    "      X_array.shape)\n",
    "# Concatenate Y_array\n",
    "Y_array = pd.concat([y_train_true, y_test_true]).reset_index(drop=True)\n"
   ]
  },
  {
   "cell_type": "code",
   "execution_count": 29,
   "id": "f2d6051a",
   "metadata": {
    "execution": {
     "iopub.execute_input": "2024-10-28T21:08:21.608193Z",
     "iopub.status.busy": "2024-10-28T21:08:21.607566Z",
     "iopub.status.idle": "2024-10-28T21:08:21.621166Z",
     "shell.execute_reply": "2024-10-28T21:08:21.619206Z"
    },
    "papermill": {
     "duration": 0.050699,
     "end_time": "2024-10-28T21:08:21.624930",
     "exception": false,
     "start_time": "2024-10-28T21:08:21.574231",
     "status": "completed"
    },
    "tags": []
   },
   "outputs": [
    {
     "name": "stdout",
     "output_type": "stream",
     "text": [
      "SVC \t SVC(max_iter=100000)\n",
      "LSVC \t LinearSVC(C=0.6, max_iter=100000)\n",
      "KNN \t KNeighborsClassifier(n_neighbors=11)\n",
      "RF \t RandomForestClassifier(n_estimators=500, random_state=42)\n",
      "HGBC \t HistGradientBoostingClassifier(learning_rate=0.3, max_depth=2, max_iter=200,\n",
      "                               min_samples_leaf=1)\n",
      "GBC \t GradientBoostingClassifier(learning_rate=0.3, max_depth=10, n_estimators=150,\n",
      "                           random_state=0)\n"
     ]
    }
   ],
   "source": [
    "for i,j in zip(models_df.columns.values, models_df.values[0]):\n",
    "    print(i, \"\\t\", j)"
   ]
  },
  {
   "cell_type": "code",
   "execution_count": 30,
   "id": "35fae217",
   "metadata": {
    "execution": {
     "iopub.execute_input": "2024-10-28T21:08:21.691566Z",
     "iopub.status.busy": "2024-10-28T21:08:21.690934Z",
     "iopub.status.idle": "2024-10-28T21:15:58.015807Z",
     "shell.execute_reply": "2024-10-28T21:15:58.013783Z"
    },
    "papermill": {
     "duration": 456.393917,
     "end_time": "2024-10-28T21:15:58.051359",
     "exception": false,
     "start_time": "2024-10-28T21:08:21.657442",
     "status": "completed"
    },
    "tags": []
   },
   "outputs": [
    {
     "name": "stdout",
     "output_type": "stream",
     "text": [
      "SVC SVC(max_iter=100000)\n",
      "Model: SVC, Mean Accuracy: 0.8004143092529729\n",
      "LSVC LinearSVC(C=0.6, max_iter=100000)\n",
      "Model: LSVC, Mean Accuracy: 0.7893689079467175\n",
      "KNN KNeighborsClassifier(n_neighbors=11)\n",
      "Model: KNN, Mean Accuracy: 0.7861505171421198\n",
      "RF RandomForestClassifier(n_estimators=500, random_state=42)\n",
      "Model: RF, Mean Accuracy: 0.8052462628789231\n",
      "HGBC HistGradientBoostingClassifier(learning_rate=0.3, max_depth=2, max_iter=200,\n",
      "                               min_samples_leaf=1)\n",
      "Model: HGBC, Mean Accuracy: 0.8073154269152126\n",
      "GBC GradientBoostingClassifier(learning_rate=0.3, max_depth=10, n_estimators=150,\n",
      "                           random_state=0)\n",
      "Model: GBC, Mean Accuracy: 0.7994943719849917\n",
      "Done it.\n"
     ]
    }
   ],
   "source": [
    "# Get all the models\n",
    "models = models_df.values[0]\n",
    "dfs = []\n",
    "best_score=0.0\n",
    "for name, model in zip(models_df.columns.values, models_df.values[0]):\n",
    "    kfold = model_selection.KFold(n_splits=15, shuffle=True, random_state=0)\n",
    "    x_impute = apply_impute_rf(X_array)\n",
    "    cv_result = model_selection.cross_validate(model, x_impute, Y_array.values, cv=kfold, scoring='accuracy') \n",
    "    this_df = pd.DataFrame(cv_result)\n",
    "    this_df['model'] = name\n",
    "    dfs.append(this_df)\n",
    "    print(name, model)\n",
    "    # Calculate mean accuracy for this model\n",
    "    mean_accuracy = this_df['test_score'].mean()\n",
    "    print(f\"Model: {name}, Mean Accuracy: {mean_accuracy}\")\n",
    "    \n",
    "    # Update best model if this model has a higher mean accuracy\n",
    "    if mean_accuracy > best_score:\n",
    "        best_score = mean_accuracy\n",
    "        best_model = (name, model)\n",
    "        \n",
    "final = pd.concat(dfs, ignore_index=True)\n",
    "print(\"Done it.\")"
   ]
  },
  {
   "cell_type": "code",
   "execution_count": 31,
   "id": "ded33cc9",
   "metadata": {
    "execution": {
     "iopub.execute_input": "2024-10-28T21:15:58.118228Z",
     "iopub.status.busy": "2024-10-28T21:15:58.117651Z",
     "iopub.status.idle": "2024-10-28T21:15:58.141702Z",
     "shell.execute_reply": "2024-10-28T21:15:58.140064Z"
    },
    "papermill": {
     "duration": 0.062053,
     "end_time": "2024-10-28T21:15:58.144961",
     "exception": false,
     "start_time": "2024-10-28T21:15:58.082908",
     "status": "completed"
    },
    "tags": []
   },
   "outputs": [
    {
     "data": {
      "text/html": [
       "<div>\n",
       "<style scoped>\n",
       "    .dataframe tbody tr th:only-of-type {\n",
       "        vertical-align: middle;\n",
       "    }\n",
       "\n",
       "    .dataframe tbody tr th {\n",
       "        vertical-align: top;\n",
       "    }\n",
       "\n",
       "    .dataframe thead th {\n",
       "        text-align: right;\n",
       "    }\n",
       "</style>\n",
       "<table border=\"1\" class=\"dataframe\">\n",
       "  <thead>\n",
       "    <tr style=\"text-align: right;\">\n",
       "      <th></th>\n",
       "      <th>fit_time</th>\n",
       "      <th>score_time</th>\n",
       "      <th>test_score</th>\n",
       "      <th>model</th>\n",
       "    </tr>\n",
       "  </thead>\n",
       "  <tbody>\n",
       "    <tr>\n",
       "      <th>40</th>\n",
       "      <td>0.002085</td>\n",
       "      <td>0.056324</td>\n",
       "      <td>0.792746</td>\n",
       "      <td>KNN</td>\n",
       "    </tr>\n",
       "    <tr>\n",
       "      <th>41</th>\n",
       "      <td>0.002077</td>\n",
       "      <td>0.055395</td>\n",
       "      <td>0.808290</td>\n",
       "      <td>KNN</td>\n",
       "    </tr>\n",
       "    <tr>\n",
       "      <th>42</th>\n",
       "      <td>0.002137</td>\n",
       "      <td>0.056695</td>\n",
       "      <td>0.773748</td>\n",
       "      <td>KNN</td>\n",
       "    </tr>\n",
       "    <tr>\n",
       "      <th>43</th>\n",
       "      <td>0.002191</td>\n",
       "      <td>0.056437</td>\n",
       "      <td>0.791019</td>\n",
       "      <td>KNN</td>\n",
       "    </tr>\n",
       "    <tr>\n",
       "      <th>44</th>\n",
       "      <td>0.002251</td>\n",
       "      <td>0.056010</td>\n",
       "      <td>0.770294</td>\n",
       "      <td>KNN</td>\n",
       "    </tr>\n",
       "    <tr>\n",
       "      <th>45</th>\n",
       "      <td>10.741995</td>\n",
       "      <td>0.118073</td>\n",
       "      <td>0.836207</td>\n",
       "      <td>RF</td>\n",
       "    </tr>\n",
       "    <tr>\n",
       "      <th>46</th>\n",
       "      <td>10.527068</td>\n",
       "      <td>0.121191</td>\n",
       "      <td>0.784483</td>\n",
       "      <td>RF</td>\n",
       "    </tr>\n",
       "    <tr>\n",
       "      <th>47</th>\n",
       "      <td>10.552850</td>\n",
       "      <td>0.127983</td>\n",
       "      <td>0.820690</td>\n",
       "      <td>RF</td>\n",
       "    </tr>\n",
       "    <tr>\n",
       "      <th>48</th>\n",
       "      <td>10.546120</td>\n",
       "      <td>0.118853</td>\n",
       "      <td>0.777586</td>\n",
       "      <td>RF</td>\n",
       "    </tr>\n",
       "    <tr>\n",
       "      <th>49</th>\n",
       "      <td>10.565223</td>\n",
       "      <td>0.117209</td>\n",
       "      <td>0.800000</td>\n",
       "      <td>RF</td>\n",
       "    </tr>\n",
       "    <tr>\n",
       "      <th>50</th>\n",
       "      <td>10.490566</td>\n",
       "      <td>0.115961</td>\n",
       "      <td>0.800000</td>\n",
       "      <td>RF</td>\n",
       "    </tr>\n",
       "    <tr>\n",
       "      <th>51</th>\n",
       "      <td>10.462731</td>\n",
       "      <td>0.112777</td>\n",
       "      <td>0.794828</td>\n",
       "      <td>RF</td>\n",
       "    </tr>\n",
       "    <tr>\n",
       "      <th>52</th>\n",
       "      <td>10.486156</td>\n",
       "      <td>0.116252</td>\n",
       "      <td>0.822414</td>\n",
       "      <td>RF</td>\n",
       "    </tr>\n",
       "    <tr>\n",
       "      <th>53</th>\n",
       "      <td>10.511069</td>\n",
       "      <td>0.115769</td>\n",
       "      <td>0.815199</td>\n",
       "      <td>RF</td>\n",
       "    </tr>\n",
       "    <tr>\n",
       "      <th>54</th>\n",
       "      <td>10.614716</td>\n",
       "      <td>0.112875</td>\n",
       "      <td>0.830743</td>\n",
       "      <td>RF</td>\n",
       "    </tr>\n",
       "    <tr>\n",
       "      <th>55</th>\n",
       "      <td>10.510365</td>\n",
       "      <td>0.115204</td>\n",
       "      <td>0.799655</td>\n",
       "      <td>RF</td>\n",
       "    </tr>\n",
       "    <tr>\n",
       "      <th>56</th>\n",
       "      <td>10.409858</td>\n",
       "      <td>0.118829</td>\n",
       "      <td>0.823834</td>\n",
       "      <td>RF</td>\n",
       "    </tr>\n",
       "    <tr>\n",
       "      <th>57</th>\n",
       "      <td>10.466889</td>\n",
       "      <td>0.119896</td>\n",
       "      <td>0.770294</td>\n",
       "      <td>RF</td>\n",
       "    </tr>\n",
       "    <tr>\n",
       "      <th>58</th>\n",
       "      <td>10.474907</td>\n",
       "      <td>0.116566</td>\n",
       "      <td>0.820380</td>\n",
       "      <td>RF</td>\n",
       "    </tr>\n",
       "    <tr>\n",
       "      <th>59</th>\n",
       "      <td>10.519758</td>\n",
       "      <td>0.114650</td>\n",
       "      <td>0.782383</td>\n",
       "      <td>RF</td>\n",
       "    </tr>\n",
       "    <tr>\n",
       "      <th>60</th>\n",
       "      <td>0.411387</td>\n",
       "      <td>0.008738</td>\n",
       "      <td>0.827586</td>\n",
       "      <td>HGBC</td>\n",
       "    </tr>\n",
       "    <tr>\n",
       "      <th>61</th>\n",
       "      <td>0.304297</td>\n",
       "      <td>0.009383</td>\n",
       "      <td>0.796552</td>\n",
       "      <td>HGBC</td>\n",
       "    </tr>\n",
       "    <tr>\n",
       "      <th>62</th>\n",
       "      <td>0.306186</td>\n",
       "      <td>0.009604</td>\n",
       "      <td>0.815517</td>\n",
       "      <td>HGBC</td>\n",
       "    </tr>\n",
       "    <tr>\n",
       "      <th>63</th>\n",
       "      <td>0.317248</td>\n",
       "      <td>0.010491</td>\n",
       "      <td>0.791379</td>\n",
       "      <td>HGBC</td>\n",
       "    </tr>\n",
       "    <tr>\n",
       "      <th>64</th>\n",
       "      <td>0.337235</td>\n",
       "      <td>0.009283</td>\n",
       "      <td>0.810345</td>\n",
       "      <td>HGBC</td>\n",
       "    </tr>\n",
       "    <tr>\n",
       "      <th>65</th>\n",
       "      <td>0.366169</td>\n",
       "      <td>0.009985</td>\n",
       "      <td>0.806897</td>\n",
       "      <td>HGBC</td>\n",
       "    </tr>\n",
       "    <tr>\n",
       "      <th>66</th>\n",
       "      <td>2.675932</td>\n",
       "      <td>0.013582</td>\n",
       "      <td>0.801724</td>\n",
       "      <td>HGBC</td>\n",
       "    </tr>\n",
       "    <tr>\n",
       "      <th>67</th>\n",
       "      <td>0.315788</td>\n",
       "      <td>0.008646</td>\n",
       "      <td>0.815517</td>\n",
       "      <td>HGBC</td>\n",
       "    </tr>\n",
       "    <tr>\n",
       "      <th>68</th>\n",
       "      <td>0.309575</td>\n",
       "      <td>0.008868</td>\n",
       "      <td>0.806563</td>\n",
       "      <td>HGBC</td>\n",
       "    </tr>\n",
       "    <tr>\n",
       "      <th>69</th>\n",
       "      <td>0.315747</td>\n",
       "      <td>0.009336</td>\n",
       "      <td>0.825561</td>\n",
       "      <td>HGBC</td>\n",
       "    </tr>\n",
       "    <tr>\n",
       "      <th>70</th>\n",
       "      <td>0.309573</td>\n",
       "      <td>0.009005</td>\n",
       "      <td>0.794473</td>\n",
       "      <td>HGBC</td>\n",
       "    </tr>\n",
       "    <tr>\n",
       "      <th>71</th>\n",
       "      <td>0.317823</td>\n",
       "      <td>0.009590</td>\n",
       "      <td>0.846287</td>\n",
       "      <td>HGBC</td>\n",
       "    </tr>\n",
       "    <tr>\n",
       "      <th>72</th>\n",
       "      <td>0.332385</td>\n",
       "      <td>0.008865</td>\n",
       "      <td>0.791019</td>\n",
       "      <td>HGBC</td>\n",
       "    </tr>\n",
       "    <tr>\n",
       "      <th>73</th>\n",
       "      <td>0.327938</td>\n",
       "      <td>0.008584</td>\n",
       "      <td>0.796200</td>\n",
       "      <td>HGBC</td>\n",
       "    </tr>\n",
       "    <tr>\n",
       "      <th>74</th>\n",
       "      <td>0.322664</td>\n",
       "      <td>0.009758</td>\n",
       "      <td>0.784111</td>\n",
       "      <td>HGBC</td>\n",
       "    </tr>\n",
       "    <tr>\n",
       "      <th>75</th>\n",
       "      <td>12.386529</td>\n",
       "      <td>0.009557</td>\n",
       "      <td>0.813793</td>\n",
       "      <td>GBC</td>\n",
       "    </tr>\n",
       "    <tr>\n",
       "      <th>76</th>\n",
       "      <td>12.431188</td>\n",
       "      <td>0.009134</td>\n",
       "      <td>0.794828</td>\n",
       "      <td>GBC</td>\n",
       "    </tr>\n",
       "    <tr>\n",
       "      <th>77</th>\n",
       "      <td>12.523452</td>\n",
       "      <td>0.009359</td>\n",
       "      <td>0.805172</td>\n",
       "      <td>GBC</td>\n",
       "    </tr>\n",
       "    <tr>\n",
       "      <th>78</th>\n",
       "      <td>12.564852</td>\n",
       "      <td>0.009113</td>\n",
       "      <td>0.775862</td>\n",
       "      <td>GBC</td>\n",
       "    </tr>\n",
       "    <tr>\n",
       "      <th>79</th>\n",
       "      <td>12.324750</td>\n",
       "      <td>0.009387</td>\n",
       "      <td>0.794828</td>\n",
       "      <td>GBC</td>\n",
       "    </tr>\n",
       "    <tr>\n",
       "      <th>80</th>\n",
       "      <td>12.290790</td>\n",
       "      <td>0.008871</td>\n",
       "      <td>0.801724</td>\n",
       "      <td>GBC</td>\n",
       "    </tr>\n",
       "    <tr>\n",
       "      <th>81</th>\n",
       "      <td>12.301722</td>\n",
       "      <td>0.009192</td>\n",
       "      <td>0.798276</td>\n",
       "      <td>GBC</td>\n",
       "    </tr>\n",
       "    <tr>\n",
       "      <th>82</th>\n",
       "      <td>12.383974</td>\n",
       "      <td>0.009259</td>\n",
       "      <td>0.806897</td>\n",
       "      <td>GBC</td>\n",
       "    </tr>\n",
       "    <tr>\n",
       "      <th>83</th>\n",
       "      <td>12.277565</td>\n",
       "      <td>0.008885</td>\n",
       "      <td>0.816926</td>\n",
       "      <td>GBC</td>\n",
       "    </tr>\n",
       "    <tr>\n",
       "      <th>84</th>\n",
       "      <td>12.383132</td>\n",
       "      <td>0.009383</td>\n",
       "      <td>0.804836</td>\n",
       "      <td>GBC</td>\n",
       "    </tr>\n",
       "    <tr>\n",
       "      <th>85</th>\n",
       "      <td>12.407001</td>\n",
       "      <td>0.008896</td>\n",
       "      <td>0.792746</td>\n",
       "      <td>GBC</td>\n",
       "    </tr>\n",
       "    <tr>\n",
       "      <th>86</th>\n",
       "      <td>12.296356</td>\n",
       "      <td>0.008752</td>\n",
       "      <td>0.834197</td>\n",
       "      <td>GBC</td>\n",
       "    </tr>\n",
       "    <tr>\n",
       "      <th>87</th>\n",
       "      <td>12.400584</td>\n",
       "      <td>0.010254</td>\n",
       "      <td>0.775475</td>\n",
       "      <td>GBC</td>\n",
       "    </tr>\n",
       "    <tr>\n",
       "      <th>88</th>\n",
       "      <td>12.277129</td>\n",
       "      <td>0.009871</td>\n",
       "      <td>0.778929</td>\n",
       "      <td>GBC</td>\n",
       "    </tr>\n",
       "    <tr>\n",
       "      <th>89</th>\n",
       "      <td>12.418829</td>\n",
       "      <td>0.009028</td>\n",
       "      <td>0.797927</td>\n",
       "      <td>GBC</td>\n",
       "    </tr>\n",
       "  </tbody>\n",
       "</table>\n",
       "</div>"
      ],
      "text/plain": [
       "     fit_time  score_time  test_score model\n",
       "40   0.002085    0.056324    0.792746   KNN\n",
       "41   0.002077    0.055395    0.808290   KNN\n",
       "42   0.002137    0.056695    0.773748   KNN\n",
       "43   0.002191    0.056437    0.791019   KNN\n",
       "44   0.002251    0.056010    0.770294   KNN\n",
       "45  10.741995    0.118073    0.836207    RF\n",
       "46  10.527068    0.121191    0.784483    RF\n",
       "47  10.552850    0.127983    0.820690    RF\n",
       "48  10.546120    0.118853    0.777586    RF\n",
       "49  10.565223    0.117209    0.800000    RF\n",
       "50  10.490566    0.115961    0.800000    RF\n",
       "51  10.462731    0.112777    0.794828    RF\n",
       "52  10.486156    0.116252    0.822414    RF\n",
       "53  10.511069    0.115769    0.815199    RF\n",
       "54  10.614716    0.112875    0.830743    RF\n",
       "55  10.510365    0.115204    0.799655    RF\n",
       "56  10.409858    0.118829    0.823834    RF\n",
       "57  10.466889    0.119896    0.770294    RF\n",
       "58  10.474907    0.116566    0.820380    RF\n",
       "59  10.519758    0.114650    0.782383    RF\n",
       "60   0.411387    0.008738    0.827586  HGBC\n",
       "61   0.304297    0.009383    0.796552  HGBC\n",
       "62   0.306186    0.009604    0.815517  HGBC\n",
       "63   0.317248    0.010491    0.791379  HGBC\n",
       "64   0.337235    0.009283    0.810345  HGBC\n",
       "65   0.366169    0.009985    0.806897  HGBC\n",
       "66   2.675932    0.013582    0.801724  HGBC\n",
       "67   0.315788    0.008646    0.815517  HGBC\n",
       "68   0.309575    0.008868    0.806563  HGBC\n",
       "69   0.315747    0.009336    0.825561  HGBC\n",
       "70   0.309573    0.009005    0.794473  HGBC\n",
       "71   0.317823    0.009590    0.846287  HGBC\n",
       "72   0.332385    0.008865    0.791019  HGBC\n",
       "73   0.327938    0.008584    0.796200  HGBC\n",
       "74   0.322664    0.009758    0.784111  HGBC\n",
       "75  12.386529    0.009557    0.813793   GBC\n",
       "76  12.431188    0.009134    0.794828   GBC\n",
       "77  12.523452    0.009359    0.805172   GBC\n",
       "78  12.564852    0.009113    0.775862   GBC\n",
       "79  12.324750    0.009387    0.794828   GBC\n",
       "80  12.290790    0.008871    0.801724   GBC\n",
       "81  12.301722    0.009192    0.798276   GBC\n",
       "82  12.383974    0.009259    0.806897   GBC\n",
       "83  12.277565    0.008885    0.816926   GBC\n",
       "84  12.383132    0.009383    0.804836   GBC\n",
       "85  12.407001    0.008896    0.792746   GBC\n",
       "86  12.296356    0.008752    0.834197   GBC\n",
       "87  12.400584    0.010254    0.775475   GBC\n",
       "88  12.277129    0.009871    0.778929   GBC\n",
       "89  12.418829    0.009028    0.797927   GBC"
      ]
     },
     "metadata": {},
     "output_type": "display_data"
    }
   ],
   "source": [
    "#final_with_outlier = final.copy()\n",
    "#final_with_outlier_nan = final.copy()\n",
    "#final_with_outlier_removed = final.copy()\n",
    "final_with_outlier_replaced_mean = final.copy()\n",
    "display(final[40:])"
   ]
  },
  {
   "cell_type": "code",
   "execution_count": 32,
   "id": "55ca9ab8",
   "metadata": {
    "execution": {
     "iopub.execute_input": "2024-10-28T21:15:58.211011Z",
     "iopub.status.busy": "2024-10-28T21:15:58.210446Z",
     "iopub.status.idle": "2024-10-28T21:15:58.216492Z",
     "shell.execute_reply": "2024-10-28T21:15:58.215141Z"
    },
    "papermill": {
     "duration": 0.042743,
     "end_time": "2024-10-28T21:15:58.219764",
     "exception": false,
     "start_time": "2024-10-28T21:15:58.177021",
     "status": "completed"
    },
    "tags": []
   },
   "outputs": [],
   "source": [
    "best_model_outlier_removed = best_model"
   ]
  },
  {
   "cell_type": "markdown",
   "id": "31b39ac6",
   "metadata": {
    "papermill": {
     "duration": 0.032168,
     "end_time": "2024-10-28T21:15:58.284704",
     "exception": false,
     "start_time": "2024-10-28T21:15:58.252536",
     "status": "completed"
    },
    "tags": []
   },
   "source": [
    "======================================================================="
   ]
  },
  {
   "cell_type": "markdown",
   "id": "d3324ff9",
   "metadata": {
    "papermill": {
     "duration": 0.032051,
     "end_time": "2024-10-28T21:15:58.350796",
     "exception": false,
     "start_time": "2024-10-28T21:15:58.318745",
     "status": "completed"
    },
    "tags": []
   },
   "source": [
    "# Application to data \n",
    "\n",
    "Run best model with `X_validation_scaled`  "
   ]
  },
  {
   "cell_type": "code",
   "execution_count": 33,
   "id": "cb7fd24f",
   "metadata": {
    "execution": {
     "iopub.execute_input": "2024-10-28T21:15:58.421909Z",
     "iopub.status.busy": "2024-10-28T21:15:58.420152Z",
     "iopub.status.idle": "2024-10-28T21:16:02.398629Z",
     "shell.execute_reply": "2024-10-28T21:16:02.396477Z"
    },
    "papermill": {
     "duration": 4.019576,
     "end_time": "2024-10-28T21:16:02.402590",
     "exception": false,
     "start_time": "2024-10-28T21:15:58.383014",
     "status": "completed"
    },
    "tags": []
   },
   "outputs": [
    {
     "name": "stdout",
     "output_type": "stream",
     "text": [
      "Mean_ accuracy 0.7994943719849917\n"
     ]
    }
   ],
   "source": [
    "import xgboost as xgb\n",
    "from xgboost import XGBClassifier\n",
    "# Initialize the XGBoost classifier\n",
    "model = XGBClassifier(use_label_encoder=False, eval_metric='mlogloss')\n",
    "\n",
    "# Train the model\n",
    "#X_train_scaled, X_test_scaled, y_train_true, y_test_true\n",
    "#x_impute = apply_impute_rf(X_array)\n",
    "kfold_xgb = model_selection.KFold(n_splits=15, shuffle=True, random_state=0)\n",
    "cv_result = model_selection.cross_validate(model, X_train_scaled, \n",
    "                                           y_train_true.values, \n",
    "                                           cv=kfold_xgb, scoring='accuracy') \n",
    "\n",
    "new_df = pd.DataFrame(cv_result)\n",
    "new_df['model'] = name\n",
    "#dfs.append(this_df)print(name, model)\n",
    "# Calculate mean accuracy for this model\n",
    "mean_accuracy = this_df['test_score'].mean()\n",
    "print(\"Mean_ accuracy\", mean_accuracy)    \n",
    "# Make predictions on the test set\n",
    "#y_pred_xgbc = model.predict(X_test_scaled)\n",
    "\n",
    "# Calculate accuracy\n",
    "#print(\"accuracy\", accuracy_score(y_test_true, y_pred_xgbc))"
   ]
  },
  {
   "cell_type": "code",
   "execution_count": 34,
   "id": "0a4bc8ef",
   "metadata": {
    "execution": {
     "iopub.execute_input": "2024-10-28T21:16:02.478601Z",
     "iopub.status.busy": "2024-10-28T21:16:02.476820Z",
     "iopub.status.idle": "2024-10-28T21:16:02.487161Z",
     "shell.execute_reply": "2024-10-28T21:16:02.484770Z"
    },
    "papermill": {
     "duration": 0.053048,
     "end_time": "2024-10-28T21:16:02.490678",
     "exception": false,
     "start_time": "2024-10-28T21:16:02.437630",
     "status": "completed"
    },
    "tags": []
   },
   "outputs": [
    {
     "name": "stdout",
     "output_type": "stream",
     "text": [
      "('HGBC', HistGradientBoostingClassifier(learning_rate=0.3, max_depth=2, max_iter=200,\n",
      "                               min_samples_leaf=1))\n"
     ]
    }
   ],
   "source": [
    "print(best_model)"
   ]
  },
  {
   "cell_type": "code",
   "execution_count": 35,
   "id": "fd06066e",
   "metadata": {
    "execution": {
     "iopub.execute_input": "2024-10-28T21:16:02.560932Z",
     "iopub.status.busy": "2024-10-28T21:16:02.559415Z",
     "iopub.status.idle": "2024-10-28T21:16:05.196735Z",
     "shell.execute_reply": "2024-10-28T21:16:05.195383Z"
    },
    "papermill": {
     "duration": 2.674727,
     "end_time": "2024-10-28T21:16:05.200085",
     "exception": false,
     "start_time": "2024-10-28T21:16:02.525358",
     "status": "completed"
    },
    "tags": []
   },
   "outputs": [
    {
     "name": "stdout",
     "output_type": "stream",
     "text": [
      "Done it. \n"
     ]
    }
   ],
   "source": [
    "# Normalize data\n",
    "X_validation_ = X_validation.copy()\n",
    "X_validation_.drop(columns='Name', inplace=True)\n",
    "X_validation_ = normalize_data(X_validation_)\n",
    "x_val_imp = apply_impute_rf(X_validation_)\n",
    "X_validation_scaled = scaler.fit_transform(x_val_imp)\n",
    "# Predict with best model\n",
    "result = best_model[1].predict(X_validation_scaled)\n",
    "# save in .cvs with labels\n",
    "output = pd.DataFrame({\n",
    "    \"PassengerId\": X_validation.iloc[:,0],\n",
    "    \"Transported\": np.array(result, dtype=bool)\n",
    "})\n",
    "print(\"Done it. \")"
   ]
  },
  {
   "cell_type": "code",
   "execution_count": 36,
   "id": "bf6f5af5",
   "metadata": {
    "execution": {
     "iopub.execute_input": "2024-10-28T21:16:05.269284Z",
     "iopub.status.busy": "2024-10-28T21:16:05.268677Z",
     "iopub.status.idle": "2024-10-28T21:16:05.285716Z",
     "shell.execute_reply": "2024-10-28T21:16:05.283530Z"
    },
    "papermill": {
     "duration": 0.055829,
     "end_time": "2024-10-28T21:16:05.289639",
     "exception": false,
     "start_time": "2024-10-28T21:16:05.233810",
     "status": "completed"
    },
    "tags": []
   },
   "outputs": [],
   "source": [
    "output.to_csv(\"submission.csv\",index=False)"
   ]
  },
  {
   "cell_type": "code",
   "execution_count": 37,
   "id": "c0466015",
   "metadata": {
    "execution": {
     "iopub.execute_input": "2024-10-28T21:16:05.357965Z",
     "iopub.status.busy": "2024-10-28T21:16:05.356402Z",
     "iopub.status.idle": "2024-10-28T21:16:07.067548Z",
     "shell.execute_reply": "2024-10-28T21:16:07.064555Z"
    },
    "papermill": {
     "duration": 1.748895,
     "end_time": "2024-10-28T21:16:07.071195",
     "exception": false,
     "start_time": "2024-10-28T21:16:05.322300",
     "status": "completed"
    },
    "tags": []
   },
   "outputs": [
    {
     "name": "stdout",
     "output_type": "stream",
     "text": [
      "__notebook__.ipynb  submission.csv\r\n"
     ]
    }
   ],
   "source": [
    "!ls"
   ]
  },
  {
   "cell_type": "code",
   "execution_count": null,
   "id": "0301356b",
   "metadata": {
    "papermill": {
     "duration": 0.032533,
     "end_time": "2024-10-28T21:16:07.136771",
     "exception": false,
     "start_time": "2024-10-28T21:16:07.104238",
     "status": "completed"
    },
    "tags": []
   },
   "outputs": [],
   "source": []
  }
 ],
 "metadata": {
  "kaggle": {
   "accelerator": "none",
   "dataSources": [
    {
     "databundleVersionId": 3220602,
     "sourceId": 34377,
     "sourceType": "competition"
    }
   ],
   "dockerImageVersionId": 30786,
   "isGpuEnabled": false,
   "isInternetEnabled": false,
   "language": "python",
   "sourceType": "notebook"
  },
  "kernelspec": {
   "display_name": "devtin",
   "language": "python",
   "name": "python3"
  },
  "language_info": {
   "codemirror_mode": {
    "name": "ipython",
    "version": 3
   },
   "file_extension": ".py",
   "mimetype": "text/x-python",
   "name": "python",
   "nbconvert_exporter": "python",
   "pygments_lexer": "ipython3",
   "version": "3.12.7"
  },
  "papermill": {
   "default_parameters": {},
   "duration": 633.941097,
   "end_time": "2024-10-28T21:16:08.301579",
   "environment_variables": {},
   "exception": null,
   "input_path": "__notebook__.ipynb",
   "output_path": "__notebook__.ipynb",
   "parameters": {},
   "start_time": "2024-10-28T21:05:34.360482",
   "version": "2.6.0"
  }
 },
 "nbformat": 4,
 "nbformat_minor": 5
}
